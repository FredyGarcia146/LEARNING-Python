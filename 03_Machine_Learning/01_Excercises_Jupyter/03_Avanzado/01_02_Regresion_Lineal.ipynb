{
 "cells": [
  {
   "cell_type": "markdown",
   "metadata": {},
   "source": [
    "00  -   INICIO - Limpieza y Seteado inicial"
   ]
  },
  {
   "cell_type": "code",
   "execution_count": 1,
   "metadata": {},
   "outputs": [],
   "source": [
    "# Tratamiento de datos\n",
    "# ==============================================================================\n",
    "import pandas as pd\n",
    "import numpy as np\n",
    "# Gráficos\n",
    "# ==============================================================================\n",
    "import seaborn as sns\n",
    "import matplotlib.pyplot as plt\n",
    "# Gráfico de distribución para cada variable numérica\n",
    "import matplotlib.ticker as ticker\n",
    "# ==============================================================================\n",
    "# Identificador de tipos de Distribucion\n",
    "# ==============================================================================\n",
    "from fitter import Fitter, get_common_distributions\n",
    "# ==============================================================================\n",
    "url = \"C:/Users/and14/Desktop/Proyectos/Programacion/Python/2022/Practica_20220831_ML/00_Data_Sets/SaratogaHouses.csv\"\n",
    "\n",
    "datos = pd.read_csv(url, sep=\",\")\n",
    "\n",
    "# Se renombran las columnas para que sean más descriptivas\n",
    "datos.columns = [\"precio\", \"metros_totales\", \"antiguedad\", \"precio_terreno\",\n",
    "                 \"metros_habitables\", \"universitarios\", \"dormitorios\", \n",
    "                 \"chimenea\", \"banyos\", \"habitaciones\", \"calefaccion\",\n",
    "                 \"consumo_calefacion\", \"desague\", \"vistas_lago\",\n",
    "                 \"nueva_construccion\", \"aire_acondicionado\"]\n",
    "#Limpiar datos\n",
    "datos = datos.fillna(0)\n",
    "\n",
    "# Se convierte la variable chimenea tipo string\n",
    "# ==============================================================================\n",
    "datos.chimenea = datos.chimenea.astype(\"str\")\n",
    "\n",
    "def tidy_corr_matrix(corr_mat):\n",
    "    '''\n",
    "    Función para convertir una matrix de correlación de pandas en formato tidy\n",
    "    '''\n",
    "    corr_mat = corr_mat.stack().reset_index()\n",
    "    corr_mat.columns = ['variable_1','variable_2','r']\n",
    "    corr_mat = corr_mat.loc[corr_mat['variable_1'] != corr_mat['variable_2'], :]\n",
    "    corr_mat['abs_r'] = np.abs(corr_mat['r'])\n",
    "    corr_mat = corr_mat.sort_values('abs_r', ascending=False)\n",
    "    return(corr_mat)\n",
    "    \n",
    "corr_matrix = datos.select_dtypes(include=['float64', 'int']).corr(method='pearson')\n",
    "dic_replace = {'2': \"2_mas\",\n",
    "               '3': \"2_mas\",\n",
    "               '4': \"2_mas\"}\n",
    "\n",
    "datos['chimenea'] = datos['chimenea'] \\\n",
    "                     .map(dic_replace) \\\n",
    "                     .fillna(datos['chimenea'])"
   ]
  },
  {
   "cell_type": "markdown",
   "metadata": {},
   "source": [
    "01  -   Regresión Lineal"
   ]
  },
  {
   "cell_type": "markdown",
   "metadata": {},
   "source": [
    "01.01       Llamada de libreria\n",
    "            En conclusión, la \n",
    "            Regresión Lineal:\n",
    "                Es un algoritmo de regresión por lo que la utilizamos para predecir un valor numérico, mientras que la \n",
    "            Regresión Logística:\n",
    "                Es un algoritmo de clasificación por lo que la utilizamos para predecir entre dos opciones."
   ]
  },
  {
   "cell_type": "code",
   "execution_count": 2,
   "metadata": {},
   "outputs": [],
   "source": [
    "from sklearn.linear_model import LogisticRegression\n",
    "\n",
    "modelLR = LogisticRegression()\n",
    "\n"
   ]
  },
  {
   "cell_type": "markdown",
   "metadata": {},
   "source": [
    "01.02       Seteado de Datos"
   ]
  },
  {
   "cell_type": "code",
   "execution_count": 3,
   "metadata": {},
   "outputs": [],
   "source": [
    "dic_replace = {'Yes': 1,\n",
    "               'No': 0}\n",
    "datos['aire_acondicionado'] = datos['aire_acondicionado'] \\\n",
    "                     .map(dic_replace) \\\n",
    "                     .fillna(datos['aire_acondicionado'])\n",
    "\n",
    "dic_replace = {'none': 'septic'}\n",
    "datos['desague'] = datos['desague'] \\\n",
    "                     .map(dic_replace) \\\n",
    "                     .fillna(datos['desague'])\n",
    "\n",
    "datos_xx = datos.select_dtypes(include=['float64', 'int'])\n",
    "datos_yy =datos[['precio']]"
   ]
  },
  {
   "cell_type": "code",
   "execution_count": 4,
   "metadata": {},
   "outputs": [
    {
     "data": {
      "text/plain": [
       "public/commercial    1213\n",
       "septic                515\n",
       "Name: desague, dtype: int64"
      ]
     },
     "execution_count": 4,
     "metadata": {},
     "output_type": "execute_result"
    }
   ],
   "source": [
    "datos.desague.value_counts()"
   ]
  },
  {
   "cell_type": "code",
   "execution_count": 5,
   "metadata": {},
   "outputs": [
    {
     "name": "stdout",
     "output_type": "stream",
     "text": [
      "<class 'pandas.core.frame.DataFrame'>\n",
      "RangeIndex: 1728 entries, 0 to 1727\n",
      "Data columns (total 10 columns):\n",
      " #   Column              Non-Null Count  Dtype  \n",
      "---  ------              --------------  -----  \n",
      " 0   precio              1728 non-null   int64  \n",
      " 1   metros_totales      1728 non-null   float64\n",
      " 2   antiguedad          1728 non-null   int64  \n",
      " 3   precio_terreno      1728 non-null   int64  \n",
      " 4   metros_habitables   1728 non-null   int64  \n",
      " 5   universitarios      1728 non-null   int64  \n",
      " 6   dormitorios         1728 non-null   int64  \n",
      " 7   banyos              1728 non-null   float64\n",
      " 8   habitaciones        1728 non-null   int64  \n",
      " 9   aire_acondicionado  1728 non-null   int64  \n",
      "dtypes: float64(2), int64(8)\n",
      "memory usage: 135.1 KB\n",
      "<class 'pandas.core.frame.DataFrame'>\n",
      "RangeIndex: 1728 entries, 0 to 1727\n",
      "Data columns (total 1 columns):\n",
      " #   Column  Non-Null Count  Dtype\n",
      "---  ------  --------------  -----\n",
      " 0   precio  1728 non-null   int64\n",
      "dtypes: int64(1)\n",
      "memory usage: 13.6 KB\n"
     ]
    }
   ],
   "source": [
    "datos_xx.info()\n",
    "datos_yy.info()"
   ]
  },
  {
   "cell_type": "markdown",
   "metadata": {},
   "source": [
    "01.03       Reparto de data - test y train\n",
    "            random_state    :\n",
    "                simplemente fija una semilla para el generador de números aleatorios, lo que permite  reproducir la función. Es decir los registros seleccionados seran los mismos en cada ejecucion para el train y el test.\n",
    "            shuffle         : \n",
    "                (que toma el valor True por defecto) especifica si los registros deberán ser desordenados previamente o no."
   ]
  },
  {
   "cell_type": "code",
   "execution_count": 18,
   "metadata": {},
   "outputs": [],
   "source": [
    "# Reparto de datos en train y test\n",
    "# ==============================================================================\n",
    "trainSize = 0.80\n",
    "seed = 1234\n",
    "from sklearn.model_selection import train_test_split\n",
    "X_train, X_test, y_train, y_test = train_test_split(\n",
    "                                        datos_xx.drop('precio', axis = 'columns'),\n",
    "                                        datos_yy,\n",
    "                                        train_size   = trainSize,\n",
    "                                        random_state = seed,\n",
    "                                        shuffle      = True\n",
    "                                    )"
   ]
  },
  {
   "cell_type": "code",
   "execution_count": 7,
   "metadata": {},
   "outputs": [
    {
     "name": "stdout",
     "output_type": "stream",
     "text": [
      "<class 'pandas.core.frame.DataFrame'>\n",
      "Int64Index: 1382 entries, 1571 to 815\n",
      "Data columns (total 9 columns):\n",
      " #   Column              Non-Null Count  Dtype  \n",
      "---  ------              --------------  -----  \n",
      " 0   metros_totales      1382 non-null   float64\n",
      " 1   antiguedad          1382 non-null   int64  \n",
      " 2   precio_terreno      1382 non-null   int64  \n",
      " 3   metros_habitables   1382 non-null   int64  \n",
      " 4   universitarios      1382 non-null   int64  \n",
      " 5   dormitorios         1382 non-null   int64  \n",
      " 6   banyos              1382 non-null   float64\n",
      " 7   habitaciones        1382 non-null   int64  \n",
      " 8   aire_acondicionado  1382 non-null   int64  \n",
      "dtypes: float64(2), int64(7)\n",
      "memory usage: 108.0 KB\n",
      "<class 'pandas.core.frame.DataFrame'>\n",
      "Int64Index: 346 entries, 903 to 1425\n",
      "Data columns (total 9 columns):\n",
      " #   Column              Non-Null Count  Dtype  \n",
      "---  ------              --------------  -----  \n",
      " 0   metros_totales      346 non-null    float64\n",
      " 1   antiguedad          346 non-null    int64  \n",
      " 2   precio_terreno      346 non-null    int64  \n",
      " 3   metros_habitables   346 non-null    int64  \n",
      " 4   universitarios      346 non-null    int64  \n",
      " 5   dormitorios         346 non-null    int64  \n",
      " 6   banyos              346 non-null    float64\n",
      " 7   habitaciones        346 non-null    int64  \n",
      " 8   aire_acondicionado  346 non-null    int64  \n",
      "dtypes: float64(2), int64(7)\n",
      "memory usage: 27.0 KB\n"
     ]
    }
   ],
   "source": [
    "X_train.info()\n",
    "X_test.info()"
   ]
  },
  {
   "cell_type": "code",
   "execution_count": 8,
   "metadata": {},
   "outputs": [
    {
     "name": "stdout",
     "output_type": "stream",
     "text": [
      "<class 'pandas.core.frame.DataFrame'>\n",
      "Int64Index: 1382 entries, 1571 to 815\n",
      "Data columns (total 1 columns):\n",
      " #   Column  Non-Null Count  Dtype\n",
      "---  ------  --------------  -----\n",
      " 0   precio  1382 non-null   int64\n",
      "dtypes: int64(1)\n",
      "memory usage: 21.6 KB\n",
      "<class 'pandas.core.frame.DataFrame'>\n",
      "Int64Index: 346 entries, 903 to 1425\n",
      "Data columns (total 1 columns):\n",
      " #   Column  Non-Null Count  Dtype\n",
      "---  ------  --------------  -----\n",
      " 0   precio  346 non-null    int64\n",
      "dtypes: int64(1)\n",
      "memory usage: 5.4 KB\n"
     ]
    }
   ],
   "source": [
    "y_train.info()\n",
    "y_test.info()"
   ]
  },
  {
   "cell_type": "markdown",
   "metadata": {},
   "source": [
    "01.04       Entrenamiento del Modelo"
   ]
  },
  {
   "cell_type": "code",
   "execution_count": 19,
   "metadata": {},
   "outputs": [
    {
     "name": "stderr",
     "output_type": "stream",
     "text": [
      "c:\\Users\\and14\\Desktop\\Proyectos\\Programacion\\Python\\2022\\Practica_20220831_ML\\01_Excercises_Jupyter\\02_Intermendio\\envDS\\lib\\site-packages\\sklearn\\utils\\validation.py:1111: DataConversionWarning: A column-vector y was passed when a 1d array was expected. Please change the shape of y to (n_samples, ), for example using ravel().\n",
      "  y = column_or_1d(y, warn=True)\n",
      "c:\\Users\\and14\\Desktop\\Proyectos\\Programacion\\Python\\2022\\Practica_20220831_ML\\01_Excercises_Jupyter\\02_Intermendio\\envDS\\lib\\site-packages\\sklearn\\linear_model\\_logistic.py:444: ConvergenceWarning: lbfgs failed to converge (status=1):\n",
      "STOP: TOTAL NO. of ITERATIONS REACHED LIMIT.\n",
      "\n",
      "Increase the number of iterations (max_iter) or scale the data as shown in:\n",
      "    https://scikit-learn.org/stable/modules/preprocessing.html\n",
      "Please also refer to the documentation for alternative solver options:\n",
      "    https://scikit-learn.org/stable/modules/linear_model.html#logistic-regression\n",
      "  n_iter_i = _check_optimize_result(\n"
     ]
    },
    {
     "data": {
      "text/html": [
       "<style>#sk-container-id-2 {color: black;background-color: white;}#sk-container-id-2 pre{padding: 0;}#sk-container-id-2 div.sk-toggleable {background-color: white;}#sk-container-id-2 label.sk-toggleable__label {cursor: pointer;display: block;width: 100%;margin-bottom: 0;padding: 0.3em;box-sizing: border-box;text-align: center;}#sk-container-id-2 label.sk-toggleable__label-arrow:before {content: \"▸\";float: left;margin-right: 0.25em;color: #696969;}#sk-container-id-2 label.sk-toggleable__label-arrow:hover:before {color: black;}#sk-container-id-2 div.sk-estimator:hover label.sk-toggleable__label-arrow:before {color: black;}#sk-container-id-2 div.sk-toggleable__content {max-height: 0;max-width: 0;overflow: hidden;text-align: left;background-color: #f0f8ff;}#sk-container-id-2 div.sk-toggleable__content pre {margin: 0.2em;color: black;border-radius: 0.25em;background-color: #f0f8ff;}#sk-container-id-2 input.sk-toggleable__control:checked~div.sk-toggleable__content {max-height: 200px;max-width: 100%;overflow: auto;}#sk-container-id-2 input.sk-toggleable__control:checked~label.sk-toggleable__label-arrow:before {content: \"▾\";}#sk-container-id-2 div.sk-estimator input.sk-toggleable__control:checked~label.sk-toggleable__label {background-color: #d4ebff;}#sk-container-id-2 div.sk-label input.sk-toggleable__control:checked~label.sk-toggleable__label {background-color: #d4ebff;}#sk-container-id-2 input.sk-hidden--visually {border: 0;clip: rect(1px 1px 1px 1px);clip: rect(1px, 1px, 1px, 1px);height: 1px;margin: -1px;overflow: hidden;padding: 0;position: absolute;width: 1px;}#sk-container-id-2 div.sk-estimator {font-family: monospace;background-color: #f0f8ff;border: 1px dotted black;border-radius: 0.25em;box-sizing: border-box;margin-bottom: 0.5em;}#sk-container-id-2 div.sk-estimator:hover {background-color: #d4ebff;}#sk-container-id-2 div.sk-parallel-item::after {content: \"\";width: 100%;border-bottom: 1px solid gray;flex-grow: 1;}#sk-container-id-2 div.sk-label:hover label.sk-toggleable__label {background-color: #d4ebff;}#sk-container-id-2 div.sk-serial::before {content: \"\";position: absolute;border-left: 1px solid gray;box-sizing: border-box;top: 0;bottom: 0;left: 50%;z-index: 0;}#sk-container-id-2 div.sk-serial {display: flex;flex-direction: column;align-items: center;background-color: white;padding-right: 0.2em;padding-left: 0.2em;position: relative;}#sk-container-id-2 div.sk-item {position: relative;z-index: 1;}#sk-container-id-2 div.sk-parallel {display: flex;align-items: stretch;justify-content: center;background-color: white;position: relative;}#sk-container-id-2 div.sk-item::before, #sk-container-id-2 div.sk-parallel-item::before {content: \"\";position: absolute;border-left: 1px solid gray;box-sizing: border-box;top: 0;bottom: 0;left: 50%;z-index: -1;}#sk-container-id-2 div.sk-parallel-item {display: flex;flex-direction: column;z-index: 1;position: relative;background-color: white;}#sk-container-id-2 div.sk-parallel-item:first-child::after {align-self: flex-end;width: 50%;}#sk-container-id-2 div.sk-parallel-item:last-child::after {align-self: flex-start;width: 50%;}#sk-container-id-2 div.sk-parallel-item:only-child::after {width: 0;}#sk-container-id-2 div.sk-dashed-wrapped {border: 1px dashed gray;margin: 0 0.4em 0.5em 0.4em;box-sizing: border-box;padding-bottom: 0.4em;background-color: white;}#sk-container-id-2 div.sk-label label {font-family: monospace;font-weight: bold;display: inline-block;line-height: 1.2em;}#sk-container-id-2 div.sk-label-container {text-align: center;}#sk-container-id-2 div.sk-container {/* jupyter's `normalize.less` sets `[hidden] { display: none; }` but bootstrap.min.css set `[hidden] { display: none !important; }` so we also need the `!important` here to be able to override the default hidden behavior on the sphinx rendered scikit-learn.org. See: https://github.com/scikit-learn/scikit-learn/issues/21755 */display: inline-block !important;position: relative;}#sk-container-id-2 div.sk-text-repr-fallback {display: none;}</style><div id=\"sk-container-id-2\" class=\"sk-top-container\"><div class=\"sk-text-repr-fallback\"><pre>LogisticRegression()</pre><b>In a Jupyter environment, please rerun this cell to show the HTML representation or trust the notebook. <br />On GitHub, the HTML representation is unable to render, please try loading this page with nbviewer.org.</b></div><div class=\"sk-container\" hidden><div class=\"sk-item\"><div class=\"sk-estimator sk-toggleable\"><input class=\"sk-toggleable__control sk-hidden--visually\" id=\"sk-estimator-id-2\" type=\"checkbox\" checked><label for=\"sk-estimator-id-2\" class=\"sk-toggleable__label sk-toggleable__label-arrow\">LogisticRegression</label><div class=\"sk-toggleable__content\"><pre>LogisticRegression()</pre></div></div></div></div></div>"
      ],
      "text/plain": [
       "LogisticRegression()"
      ]
     },
     "execution_count": 19,
     "metadata": {},
     "output_type": "execute_result"
    }
   ],
   "source": [
    "modelLR.fit(X_train, y_train)"
   ]
  },
  {
   "cell_type": "markdown",
   "metadata": {},
   "source": [
    "01.05       Prediccion de los datos de testeo"
   ]
  },
  {
   "cell_type": "code",
   "execution_count": 20,
   "metadata": {},
   "outputs": [],
   "source": [
    "targetPredic= modelLR.predict(X_test)"
   ]
  },
  {
   "cell_type": "markdown",
   "metadata": {},
   "source": [
    "01.06       Muestra de resultados score modelos"
   ]
  },
  {
   "cell_type": "code",
   "execution_count": 12,
   "metadata": {},
   "outputs": [
    {
     "data": {
      "text/plain": [
       "0.01447178002894356"
      ]
     },
     "execution_count": 12,
     "metadata": {},
     "output_type": "execute_result"
    }
   ],
   "source": [
    "modelLR.score(X_train,y_train)"
   ]
  },
  {
   "cell_type": "code",
   "execution_count": 16,
   "metadata": {},
   "outputs": [
    {
     "data": {
      "text/plain": [
       "0.005780346820809248"
      ]
     },
     "execution_count": 16,
     "metadata": {},
     "output_type": "execute_result"
    }
   ],
   "source": [
    "modelLR.score(X_test,y_test)"
   ]
  },
  {
   "cell_type": "code",
   "execution_count": 24,
   "metadata": {},
   "outputs": [
    {
     "name": "stderr",
     "output_type": "stream",
     "text": [
      "c:\\Users\\and14\\Desktop\\Proyectos\\Programacion\\Python\\2022\\Practica_20220831_ML\\01_Excercises_Jupyter\\02_Intermendio\\envDS\\lib\\site-packages\\sklearn\\utils\\validation.py:1111: DataConversionWarning: A column-vector y was passed when a 1d array was expected. Please change the shape of y to (n_samples, ), for example using ravel().\n",
      "  y = column_or_1d(y, warn=True)\n",
      "c:\\Users\\and14\\Desktop\\Proyectos\\Programacion\\Python\\2022\\Practica_20220831_ML\\01_Excercises_Jupyter\\02_Intermendio\\envDS\\lib\\site-packages\\sklearn\\linear_model\\_logistic.py:444: ConvergenceWarning: lbfgs failed to converge (status=1):\n",
      "STOP: TOTAL NO. of ITERATIONS REACHED LIMIT.\n",
      "\n",
      "Increase the number of iterations (max_iter) or scale the data as shown in:\n",
      "    https://scikit-learn.org/stable/modules/preprocessing.html\n",
      "Please also refer to the documentation for alternative solver options:\n",
      "    https://scikit-learn.org/stable/modules/linear_model.html#logistic-regression\n",
      "  n_iter_i = _check_optimize_result(\n",
      "c:\\Users\\and14\\Desktop\\Proyectos\\Programacion\\Python\\2022\\Practica_20220831_ML\\01_Excercises_Jupyter\\02_Intermendio\\envDS\\lib\\site-packages\\sklearn\\utils\\validation.py:1111: DataConversionWarning: A column-vector y was passed when a 1d array was expected. Please change the shape of y to (n_samples, ), for example using ravel().\n",
      "  y = column_or_1d(y, warn=True)\n",
      "c:\\Users\\and14\\Desktop\\Proyectos\\Programacion\\Python\\2022\\Practica_20220831_ML\\01_Excercises_Jupyter\\02_Intermendio\\envDS\\lib\\site-packages\\sklearn\\linear_model\\_logistic.py:444: ConvergenceWarning: lbfgs failed to converge (status=1):\n",
      "STOP: TOTAL NO. of ITERATIONS REACHED LIMIT.\n",
      "\n",
      "Increase the number of iterations (max_iter) or scale the data as shown in:\n",
      "    https://scikit-learn.org/stable/modules/preprocessing.html\n",
      "Please also refer to the documentation for alternative solver options:\n",
      "    https://scikit-learn.org/stable/modules/linear_model.html#logistic-regression\n",
      "  n_iter_i = _check_optimize_result(\n",
      "c:\\Users\\and14\\Desktop\\Proyectos\\Programacion\\Python\\2022\\Practica_20220831_ML\\01_Excercises_Jupyter\\02_Intermendio\\envDS\\lib\\site-packages\\sklearn\\utils\\validation.py:1111: DataConversionWarning: A column-vector y was passed when a 1d array was expected. Please change the shape of y to (n_samples, ), for example using ravel().\n",
      "  y = column_or_1d(y, warn=True)\n",
      "c:\\Users\\and14\\Desktop\\Proyectos\\Programacion\\Python\\2022\\Practica_20220831_ML\\01_Excercises_Jupyter\\02_Intermendio\\envDS\\lib\\site-packages\\sklearn\\linear_model\\_logistic.py:444: ConvergenceWarning: lbfgs failed to converge (status=1):\n",
      "STOP: TOTAL NO. of ITERATIONS REACHED LIMIT.\n",
      "\n",
      "Increase the number of iterations (max_iter) or scale the data as shown in:\n",
      "    https://scikit-learn.org/stable/modules/preprocessing.html\n",
      "Please also refer to the documentation for alternative solver options:\n",
      "    https://scikit-learn.org/stable/modules/linear_model.html#logistic-regression\n",
      "  n_iter_i = _check_optimize_result(\n",
      "c:\\Users\\and14\\Desktop\\Proyectos\\Programacion\\Python\\2022\\Practica_20220831_ML\\01_Excercises_Jupyter\\02_Intermendio\\envDS\\lib\\site-packages\\sklearn\\utils\\validation.py:1111: DataConversionWarning: A column-vector y was passed when a 1d array was expected. Please change the shape of y to (n_samples, ), for example using ravel().\n",
      "  y = column_or_1d(y, warn=True)\n",
      "c:\\Users\\and14\\Desktop\\Proyectos\\Programacion\\Python\\2022\\Practica_20220831_ML\\01_Excercises_Jupyter\\02_Intermendio\\envDS\\lib\\site-packages\\sklearn\\linear_model\\_logistic.py:444: ConvergenceWarning: lbfgs failed to converge (status=1):\n",
      "STOP: TOTAL NO. of ITERATIONS REACHED LIMIT.\n",
      "\n",
      "Increase the number of iterations (max_iter) or scale the data as shown in:\n",
      "    https://scikit-learn.org/stable/modules/preprocessing.html\n",
      "Please also refer to the documentation for alternative solver options:\n",
      "    https://scikit-learn.org/stable/modules/linear_model.html#logistic-regression\n",
      "  n_iter_i = _check_optimize_result(\n",
      "c:\\Users\\and14\\Desktop\\Proyectos\\Programacion\\Python\\2022\\Practica_20220831_ML\\01_Excercises_Jupyter\\02_Intermendio\\envDS\\lib\\site-packages\\sklearn\\utils\\validation.py:1111: DataConversionWarning: A column-vector y was passed when a 1d array was expected. Please change the shape of y to (n_samples, ), for example using ravel().\n",
      "  y = column_or_1d(y, warn=True)\n",
      "c:\\Users\\and14\\Desktop\\Proyectos\\Programacion\\Python\\2022\\Practica_20220831_ML\\01_Excercises_Jupyter\\02_Intermendio\\envDS\\lib\\site-packages\\sklearn\\linear_model\\_logistic.py:444: ConvergenceWarning: lbfgs failed to converge (status=1):\n",
      "STOP: TOTAL NO. of ITERATIONS REACHED LIMIT.\n",
      "\n",
      "Increase the number of iterations (max_iter) or scale the data as shown in:\n",
      "    https://scikit-learn.org/stable/modules/preprocessing.html\n",
      "Please also refer to the documentation for alternative solver options:\n",
      "    https://scikit-learn.org/stable/modules/linear_model.html#logistic-regression\n",
      "  n_iter_i = _check_optimize_result(\n",
      "c:\\Users\\and14\\Desktop\\Proyectos\\Programacion\\Python\\2022\\Practica_20220831_ML\\01_Excercises_Jupyter\\02_Intermendio\\envDS\\lib\\site-packages\\sklearn\\utils\\validation.py:1111: DataConversionWarning: A column-vector y was passed when a 1d array was expected. Please change the shape of y to (n_samples, ), for example using ravel().\n",
      "  y = column_or_1d(y, warn=True)\n",
      "c:\\Users\\and14\\Desktop\\Proyectos\\Programacion\\Python\\2022\\Practica_20220831_ML\\01_Excercises_Jupyter\\02_Intermendio\\envDS\\lib\\site-packages\\sklearn\\linear_model\\_logistic.py:444: ConvergenceWarning: lbfgs failed to converge (status=1):\n",
      "STOP: TOTAL NO. of ITERATIONS REACHED LIMIT.\n",
      "\n",
      "Increase the number of iterations (max_iter) or scale the data as shown in:\n",
      "    https://scikit-learn.org/stable/modules/preprocessing.html\n",
      "Please also refer to the documentation for alternative solver options:\n",
      "    https://scikit-learn.org/stable/modules/linear_model.html#logistic-regression\n",
      "  n_iter_i = _check_optimize_result(\n",
      "c:\\Users\\and14\\Desktop\\Proyectos\\Programacion\\Python\\2022\\Practica_20220831_ML\\01_Excercises_Jupyter\\02_Intermendio\\envDS\\lib\\site-packages\\sklearn\\utils\\validation.py:1111: DataConversionWarning: A column-vector y was passed when a 1d array was expected. Please change the shape of y to (n_samples, ), for example using ravel().\n",
      "  y = column_or_1d(y, warn=True)\n",
      "c:\\Users\\and14\\Desktop\\Proyectos\\Programacion\\Python\\2022\\Practica_20220831_ML\\01_Excercises_Jupyter\\02_Intermendio\\envDS\\lib\\site-packages\\sklearn\\linear_model\\_logistic.py:444: ConvergenceWarning: lbfgs failed to converge (status=1):\n",
      "STOP: TOTAL NO. of ITERATIONS REACHED LIMIT.\n",
      "\n",
      "Increase the number of iterations (max_iter) or scale the data as shown in:\n",
      "    https://scikit-learn.org/stable/modules/preprocessing.html\n",
      "Please also refer to the documentation for alternative solver options:\n",
      "    https://scikit-learn.org/stable/modules/linear_model.html#logistic-regression\n",
      "  n_iter_i = _check_optimize_result(\n",
      "c:\\Users\\and14\\Desktop\\Proyectos\\Programacion\\Python\\2022\\Practica_20220831_ML\\01_Excercises_Jupyter\\02_Intermendio\\envDS\\lib\\site-packages\\sklearn\\utils\\validation.py:1111: DataConversionWarning: A column-vector y was passed when a 1d array was expected. Please change the shape of y to (n_samples, ), for example using ravel().\n",
      "  y = column_or_1d(y, warn=True)\n",
      "c:\\Users\\and14\\Desktop\\Proyectos\\Programacion\\Python\\2022\\Practica_20220831_ML\\01_Excercises_Jupyter\\02_Intermendio\\envDS\\lib\\site-packages\\sklearn\\linear_model\\_logistic.py:444: ConvergenceWarning: lbfgs failed to converge (status=1):\n",
      "STOP: TOTAL NO. of ITERATIONS REACHED LIMIT.\n",
      "\n",
      "Increase the number of iterations (max_iter) or scale the data as shown in:\n",
      "    https://scikit-learn.org/stable/modules/preprocessing.html\n",
      "Please also refer to the documentation for alternative solver options:\n",
      "    https://scikit-learn.org/stable/modules/linear_model.html#logistic-regression\n",
      "  n_iter_i = _check_optimize_result(\n",
      "c:\\Users\\and14\\Desktop\\Proyectos\\Programacion\\Python\\2022\\Practica_20220831_ML\\01_Excercises_Jupyter\\02_Intermendio\\envDS\\lib\\site-packages\\sklearn\\utils\\validation.py:1111: DataConversionWarning: A column-vector y was passed when a 1d array was expected. Please change the shape of y to (n_samples, ), for example using ravel().\n",
      "  y = column_or_1d(y, warn=True)\n",
      "c:\\Users\\and14\\Desktop\\Proyectos\\Programacion\\Python\\2022\\Practica_20220831_ML\\01_Excercises_Jupyter\\02_Intermendio\\envDS\\lib\\site-packages\\sklearn\\linear_model\\_logistic.py:444: ConvergenceWarning: lbfgs failed to converge (status=1):\n",
      "STOP: TOTAL NO. of ITERATIONS REACHED LIMIT.\n",
      "\n",
      "Increase the number of iterations (max_iter) or scale the data as shown in:\n",
      "    https://scikit-learn.org/stable/modules/preprocessing.html\n",
      "Please also refer to the documentation for alternative solver options:\n",
      "    https://scikit-learn.org/stable/modules/linear_model.html#logistic-regression\n",
      "  n_iter_i = _check_optimize_result(\n",
      "c:\\Users\\and14\\Desktop\\Proyectos\\Programacion\\Python\\2022\\Practica_20220831_ML\\01_Excercises_Jupyter\\02_Intermendio\\envDS\\lib\\site-packages\\sklearn\\utils\\validation.py:1111: DataConversionWarning: A column-vector y was passed when a 1d array was expected. Please change the shape of y to (n_samples, ), for example using ravel().\n",
      "  y = column_or_1d(y, warn=True)\n",
      "c:\\Users\\and14\\Desktop\\Proyectos\\Programacion\\Python\\2022\\Practica_20220831_ML\\01_Excercises_Jupyter\\02_Intermendio\\envDS\\lib\\site-packages\\sklearn\\linear_model\\_logistic.py:444: ConvergenceWarning: lbfgs failed to converge (status=1):\n",
      "STOP: TOTAL NO. of ITERATIONS REACHED LIMIT.\n",
      "\n",
      "Increase the number of iterations (max_iter) or scale the data as shown in:\n",
      "    https://scikit-learn.org/stable/modules/preprocessing.html\n",
      "Please also refer to the documentation for alternative solver options:\n",
      "    https://scikit-learn.org/stable/modules/linear_model.html#logistic-regression\n",
      "  n_iter_i = _check_optimize_result(\n"
     ]
    }
   ],
   "source": [
    "from sklearn import model_selection\n",
    "name='Logistic Regression'\n",
    "kfold = model_selection.KFold(n_splits=10, random_state=seed,shuffle=True)\n",
    "cv_results = model_selection.cross_val_score(modelLR, X_train, y_train, cv=kfold, scoring='accuracy')\n",
    "msg = \"%s: %f (%f)\" % (name, cv_results.mean(), cv_results.std())\n"
   ]
  },
  {
   "cell_type": "code",
   "execution_count": 25,
   "metadata": {},
   "outputs": [
    {
     "name": "stdout",
     "output_type": "stream",
     "text": [
      "Logistic Regression: 0.010135 (0.003559)\n"
     ]
    }
   ],
   "source": [
    "print(msg)"
   ]
  },
  {
   "cell_type": "code",
   "execution_count": 27,
   "metadata": {},
   "outputs": [
    {
     "name": "stdout",
     "output_type": "stream",
     "text": [
      "0.005780346820809248\n"
     ]
    }
   ],
   "source": [
    "from sklearn.metrics import accuracy_score\n",
    "\n",
    "predictions = modelLR.predict(X_test)\n",
    "print(accuracy_score( predictions,y_test))"
   ]
  },
  {
   "cell_type": "code",
   "execution_count": 31,
   "metadata": {},
   "outputs": [],
   "source": [
    "from sklearn.metrics import confusion_matrix\n",
    "\n",
    "array = confusion_matrix(targetPredic, y_test)\n",
    "df_cm = pd.DataFrame(array)"
   ]
  }
 ],
 "metadata": {
  "kernelspec": {
   "display_name": "Python 3.9.1 ('envDS': venv)",
   "language": "python",
   "name": "python3"
  },
  "language_info": {
   "codemirror_mode": {
    "name": "ipython",
    "version": 3
   },
   "file_extension": ".py",
   "mimetype": "text/x-python",
   "name": "python",
   "nbconvert_exporter": "python",
   "pygments_lexer": "ipython3",
   "version": "3.9.1"
  },
  "orig_nbformat": 4,
  "vscode": {
   "interpreter": {
    "hash": "995346e09fb446ba2efbd9d1991cfbc82545d23f122135d8e364a6a9ff90cf1f"
   }
  }
 },
 "nbformat": 4,
 "nbformat_minor": 2
}
