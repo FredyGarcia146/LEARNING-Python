{
 "cells": [
  {
   "cell_type": "markdown",
   "metadata": {},
   "source": [
    "00  -   INICIO - Limpieza y Seteado inicial\n",
    "        https://www.aprendemachinelearning.com/regresion-logistica-con-python-paso-a-paso/\n",
    "\n",
    "        https://deepnote.com/@a_mas/Cross-Validation-en-Python-685fa851-b5b2-4c5b-b5fb-3dc5ae64838f\n",
    "\n",
    "        https://www.cienciadedatos.net/documentos/py17-regresion-logistica-python.html\n",
    "\n",
    "        https://www.cienciadedatos.net/documentos/py06_machine_learning_python_scikitlearn.html\n",
    "        \n",
    "        https://qu4nt.github.io/sklearn-doc-es/modules/generated/sklearn.model_selection.cross_val_score.html#sklearn.model_selection.cross_val_score"
   ]
  },
  {
   "cell_type": "code",
   "execution_count": 1,
   "metadata": {},
   "outputs": [],
   "source": [
    "# Tratamiento de datos\n",
    "# ==============================================================================\n",
    "import pandas as pd\n",
    "import numpy as np\n",
    "# Gráficos\n",
    "# ==============================================================================\n",
    "import seaborn as sns\n",
    "import matplotlib.pyplot as plt\n",
    "# Gráfico de distribución para cada variable numérica\n",
    "import matplotlib.ticker as ticker\n",
    "# ==============================================================================\n",
    "# Identificador de tipos de Distribucion\n",
    "# ==============================================================================\n",
    "from fitter import Fitter, get_common_distributions\n",
    "# ==============================================================================\n",
    "url = \"C:/Users/and14/Desktop/Proyectos/Programacion/Python/2022/Practica_20220831_ML/00_Data_Sets/SaratogaHouses.csv\"\n",
    "\n",
    "datos = pd.read_csv(url, sep=\",\")\n",
    "\n",
    "# Se renombran las columnas para que sean más descriptivas\n",
    "datos.columns = [\"precio\", \"metros_totales\", \"antiguedad\", \"precio_terreno\",\n",
    "                 \"metros_habitables\", \"universitarios\", \"dormitorios\", \n",
    "                 \"chimenea\", \"banyos\", \"habitaciones\", \"calefaccion\",\n",
    "                 \"consumo_calefacion\", \"desague\", \"vistas_lago\",\n",
    "                 \"nueva_construccion\", \"aire_acondicionado\"]\n",
    "#Limpiar datos\n",
    "datos = datos.fillna(0)\n",
    "\n",
    "# Se convierte la variable chimenea tipo string\n",
    "# ==============================================================================\n",
    "datos.chimenea = datos.chimenea.astype(\"str\")\n",
    "\n",
    "def tidy_corr_matrix(corr_mat):\n",
    "    '''\n",
    "    Función para convertir una matrix de correlación de pandas en formato tidy\n",
    "    '''\n",
    "    corr_mat = corr_mat.stack().reset_index()\n",
    "    corr_mat.columns = ['variable_1','variable_2','r']\n",
    "    corr_mat = corr_mat.loc[corr_mat['variable_1'] != corr_mat['variable_2'], :]\n",
    "    corr_mat['abs_r'] = np.abs(corr_mat['r'])\n",
    "    corr_mat = corr_mat.sort_values('abs_r', ascending=False)\n",
    "    return(corr_mat)\n",
    "    \n",
    "corr_matrix = datos.select_dtypes(include=['float64', 'int']).corr(method='pearson')\n",
    "dic_replace = {'2': \"2_mas\",\n",
    "               '3': \"2_mas\",\n",
    "               '4': \"2_mas\"}\n",
    "\n",
    "datos['chimenea'] = datos['chimenea'] \\\n",
    "                     .map(dic_replace) \\\n",
    "                     .fillna(datos['chimenea'])"
   ]
  },
  {
   "cell_type": "markdown",
   "metadata": {},
   "source": [
    "01  -   Regresión Logística - Scikit-learn"
   ]
  },
  {
   "cell_type": "markdown",
   "metadata": {},
   "source": [
    "01.01       Llamada de libreria\n",
    "            En conclusión, la \n",
    "            Regresión Lineal:\n",
    "                Es un algoritmo de regresión por lo que la utilizamos para predecir un valor numérico, mientras que la \n",
    "            Regresión Logística:\n",
    "                Es un algoritmo de clasificación por lo que la utilizamos para predecir entre dos opciones."
   ]
  },
  {
   "cell_type": "code",
   "execution_count": 2,
   "metadata": {},
   "outputs": [],
   "source": [
    "from sklearn.linear_model import LogisticRegression\n",
    "\n",
    "modelLR = LogisticRegression()\n"
   ]
  },
  {
   "cell_type": "markdown",
   "metadata": {},
   "source": [
    "01.02       Seteado de datos"
   ]
  },
  {
   "cell_type": "code",
   "execution_count": 3,
   "metadata": {},
   "outputs": [],
   "source": [
    "dic_replace = {'Yes': 1,\n",
    "               'No': 0}\n",
    "datos['aire_acondicionado'] = datos['aire_acondicionado'] \\\n",
    "                     .map(dic_replace) \\\n",
    "                     .fillna(datos['aire_acondicionado'])\n",
    "\n",
    "dic_replace = {'none': 'septic'}\n",
    "datos['desague'] = datos['desague'] \\\n",
    "                     .map(dic_replace) \\\n",
    "                     .fillna(datos['desague'])\n",
    "\n",
    "datos_xx = datos.select_dtypes(include=['float64', 'int'])\n",
    "datos_yy =datos[['desague']]"
   ]
  },
  {
   "cell_type": "code",
   "execution_count": 5,
   "metadata": {},
   "outputs": [
    {
     "data": {
      "text/plain": [
       "public/commercial    1213\n",
       "septic                515\n",
       "Name: desague, dtype: int64"
      ]
     },
     "execution_count": 5,
     "metadata": {},
     "output_type": "execute_result"
    }
   ],
   "source": [
    "datos.desague.value_counts()"
   ]
  },
  {
   "cell_type": "code",
   "execution_count": 27,
   "metadata": {},
   "outputs": [
    {
     "name": "stdout",
     "output_type": "stream",
     "text": [
      "<class 'pandas.core.frame.DataFrame'>\n",
      "RangeIndex: 1728 entries, 0 to 1727\n",
      "Data columns (total 10 columns):\n",
      " #   Column              Non-Null Count  Dtype  \n",
      "---  ------              --------------  -----  \n",
      " 0   precio              1728 non-null   int64  \n",
      " 1   metros_totales      1728 non-null   float64\n",
      " 2   antiguedad          1728 non-null   int64  \n",
      " 3   precio_terreno      1728 non-null   int64  \n",
      " 4   metros_habitables   1728 non-null   int64  \n",
      " 5   universitarios      1728 non-null   int64  \n",
      " 6   dormitorios         1728 non-null   int64  \n",
      " 7   banyos              1728 non-null   float64\n",
      " 8   habitaciones        1728 non-null   int64  \n",
      " 9   aire_acondicionado  1728 non-null   float64\n",
      "dtypes: float64(3), int64(7)\n",
      "memory usage: 135.1 KB\n",
      "<class 'pandas.core.frame.DataFrame'>\n",
      "RangeIndex: 1728 entries, 0 to 1727\n",
      "Data columns (total 1 columns):\n",
      " #   Column   Non-Null Count  Dtype \n",
      "---  ------   --------------  ----- \n",
      " 0   desague  1728 non-null   object\n",
      "dtypes: object(1)\n",
      "memory usage: 13.6+ KB\n"
     ]
    }
   ],
   "source": [
    "datos_xx.info()\n",
    "datos_yy.info()"
   ]
  },
  {
   "cell_type": "markdown",
   "metadata": {},
   "source": [
    "01.03       Reparto de data - test y train\n",
    "            random_state    :\n",
    "                simplemente fija una semilla para el generador de números aleatorios, lo que permite  reproducir la función. Es decir los registros seleccionados seran los mismos en cada ejecucion para el train y el test.\n",
    "            shuffle         : \n",
    "                (que toma el valor True por defecto) especifica si los registros deberán ser desordenados previamente o no."
   ]
  },
  {
   "cell_type": "code",
   "execution_count": 4,
   "metadata": {},
   "outputs": [],
   "source": [
    "# Reparto de datos en train y test\n",
    "# ==============================================================================\n",
    "trainSize = 0.80\n",
    "seed = 1234 # semilla(random_state)\n",
    "from sklearn.model_selection import train_test_split\n",
    "X_train, X_test, y_train, y_test = train_test_split(\n",
    "                                        datos_xx.drop('precio', axis = 'columns'),\n",
    "                                        datos_yy,\n",
    "                                        train_size   = trainSize,\n",
    "                                        random_state = seed,\n",
    "                                        shuffle      = True\n",
    "                                    )"
   ]
  },
  {
   "cell_type": "code",
   "execution_count": 41,
   "metadata": {},
   "outputs": [
    {
     "name": "stdout",
     "output_type": "stream",
     "text": [
      "<class 'pandas.core.frame.DataFrame'>\n",
      "Int64Index: 1382 entries, 1571 to 815\n",
      "Data columns (total 9 columns):\n",
      " #   Column              Non-Null Count  Dtype  \n",
      "---  ------              --------------  -----  \n",
      " 0   metros_totales      1382 non-null   float64\n",
      " 1   antiguedad          1382 non-null   int64  \n",
      " 2   precio_terreno      1382 non-null   int64  \n",
      " 3   metros_habitables   1382 non-null   int64  \n",
      " 4   universitarios      1382 non-null   int64  \n",
      " 5   dormitorios         1382 non-null   int64  \n",
      " 6   banyos              1382 non-null   float64\n",
      " 7   habitaciones        1382 non-null   int64  \n",
      " 8   aire_acondicionado  1382 non-null   int64  \n",
      "dtypes: float64(2), int64(7)\n",
      "memory usage: 108.0 KB\n",
      "<class 'pandas.core.frame.DataFrame'>\n",
      "Int64Index: 346 entries, 903 to 1425\n",
      "Data columns (total 9 columns):\n",
      " #   Column              Non-Null Count  Dtype  \n",
      "---  ------              --------------  -----  \n",
      " 0   metros_totales      346 non-null    float64\n",
      " 1   antiguedad          346 non-null    int64  \n",
      " 2   precio_terreno      346 non-null    int64  \n",
      " 3   metros_habitables   346 non-null    int64  \n",
      " 4   universitarios      346 non-null    int64  \n",
      " 5   dormitorios         346 non-null    int64  \n",
      " 6   banyos              346 non-null    float64\n",
      " 7   habitaciones        346 non-null    int64  \n",
      " 8   aire_acondicionado  346 non-null    int64  \n",
      "dtypes: float64(2), int64(7)\n",
      "memory usage: 27.0 KB\n"
     ]
    }
   ],
   "source": [
    "X_train.info()\n",
    "X_test.info()"
   ]
  },
  {
   "cell_type": "code",
   "execution_count": null,
   "metadata": {},
   "outputs": [],
   "source": [
    "y_train.info()\n",
    "y_test.info()"
   ]
  },
  {
   "cell_type": "markdown",
   "metadata": {},
   "source": [
    "01.04       Entrenamiento del Modelo"
   ]
  },
  {
   "cell_type": "code",
   "execution_count": 5,
   "metadata": {},
   "outputs": [
    {
     "name": "stderr",
     "output_type": "stream",
     "text": [
      "c:\\Users\\and14\\Desktop\\Proyectos\\Programacion\\Python\\2022\\Practica_20220831_ML\\01_Excercises_Jupyter\\02_Intermendio\\envDS\\lib\\site-packages\\sklearn\\utils\\validation.py:1111: DataConversionWarning: A column-vector y was passed when a 1d array was expected. Please change the shape of y to (n_samples, ), for example using ravel().\n",
      "  y = column_or_1d(y, warn=True)\n"
     ]
    },
    {
     "data": {
      "text/html": [
       "<style>#sk-container-id-1 {color: black;background-color: white;}#sk-container-id-1 pre{padding: 0;}#sk-container-id-1 div.sk-toggleable {background-color: white;}#sk-container-id-1 label.sk-toggleable__label {cursor: pointer;display: block;width: 100%;margin-bottom: 0;padding: 0.3em;box-sizing: border-box;text-align: center;}#sk-container-id-1 label.sk-toggleable__label-arrow:before {content: \"▸\";float: left;margin-right: 0.25em;color: #696969;}#sk-container-id-1 label.sk-toggleable__label-arrow:hover:before {color: black;}#sk-container-id-1 div.sk-estimator:hover label.sk-toggleable__label-arrow:before {color: black;}#sk-container-id-1 div.sk-toggleable__content {max-height: 0;max-width: 0;overflow: hidden;text-align: left;background-color: #f0f8ff;}#sk-container-id-1 div.sk-toggleable__content pre {margin: 0.2em;color: black;border-radius: 0.25em;background-color: #f0f8ff;}#sk-container-id-1 input.sk-toggleable__control:checked~div.sk-toggleable__content {max-height: 200px;max-width: 100%;overflow: auto;}#sk-container-id-1 input.sk-toggleable__control:checked~label.sk-toggleable__label-arrow:before {content: \"▾\";}#sk-container-id-1 div.sk-estimator input.sk-toggleable__control:checked~label.sk-toggleable__label {background-color: #d4ebff;}#sk-container-id-1 div.sk-label input.sk-toggleable__control:checked~label.sk-toggleable__label {background-color: #d4ebff;}#sk-container-id-1 input.sk-hidden--visually {border: 0;clip: rect(1px 1px 1px 1px);clip: rect(1px, 1px, 1px, 1px);height: 1px;margin: -1px;overflow: hidden;padding: 0;position: absolute;width: 1px;}#sk-container-id-1 div.sk-estimator {font-family: monospace;background-color: #f0f8ff;border: 1px dotted black;border-radius: 0.25em;box-sizing: border-box;margin-bottom: 0.5em;}#sk-container-id-1 div.sk-estimator:hover {background-color: #d4ebff;}#sk-container-id-1 div.sk-parallel-item::after {content: \"\";width: 100%;border-bottom: 1px solid gray;flex-grow: 1;}#sk-container-id-1 div.sk-label:hover label.sk-toggleable__label {background-color: #d4ebff;}#sk-container-id-1 div.sk-serial::before {content: \"\";position: absolute;border-left: 1px solid gray;box-sizing: border-box;top: 0;bottom: 0;left: 50%;z-index: 0;}#sk-container-id-1 div.sk-serial {display: flex;flex-direction: column;align-items: center;background-color: white;padding-right: 0.2em;padding-left: 0.2em;position: relative;}#sk-container-id-1 div.sk-item {position: relative;z-index: 1;}#sk-container-id-1 div.sk-parallel {display: flex;align-items: stretch;justify-content: center;background-color: white;position: relative;}#sk-container-id-1 div.sk-item::before, #sk-container-id-1 div.sk-parallel-item::before {content: \"\";position: absolute;border-left: 1px solid gray;box-sizing: border-box;top: 0;bottom: 0;left: 50%;z-index: -1;}#sk-container-id-1 div.sk-parallel-item {display: flex;flex-direction: column;z-index: 1;position: relative;background-color: white;}#sk-container-id-1 div.sk-parallel-item:first-child::after {align-self: flex-end;width: 50%;}#sk-container-id-1 div.sk-parallel-item:last-child::after {align-self: flex-start;width: 50%;}#sk-container-id-1 div.sk-parallel-item:only-child::after {width: 0;}#sk-container-id-1 div.sk-dashed-wrapped {border: 1px dashed gray;margin: 0 0.4em 0.5em 0.4em;box-sizing: border-box;padding-bottom: 0.4em;background-color: white;}#sk-container-id-1 div.sk-label label {font-family: monospace;font-weight: bold;display: inline-block;line-height: 1.2em;}#sk-container-id-1 div.sk-label-container {text-align: center;}#sk-container-id-1 div.sk-container {/* jupyter's `normalize.less` sets `[hidden] { display: none; }` but bootstrap.min.css set `[hidden] { display: none !important; }` so we also need the `!important` here to be able to override the default hidden behavior on the sphinx rendered scikit-learn.org. See: https://github.com/scikit-learn/scikit-learn/issues/21755 */display: inline-block !important;position: relative;}#sk-container-id-1 div.sk-text-repr-fallback {display: none;}</style><div id=\"sk-container-id-1\" class=\"sk-top-container\"><div class=\"sk-text-repr-fallback\"><pre>LogisticRegression()</pre><b>In a Jupyter environment, please rerun this cell to show the HTML representation or trust the notebook. <br />On GitHub, the HTML representation is unable to render, please try loading this page with nbviewer.org.</b></div><div class=\"sk-container\" hidden><div class=\"sk-item\"><div class=\"sk-estimator sk-toggleable\"><input class=\"sk-toggleable__control sk-hidden--visually\" id=\"sk-estimator-id-1\" type=\"checkbox\" checked><label for=\"sk-estimator-id-1\" class=\"sk-toggleable__label sk-toggleable__label-arrow\">LogisticRegression</label><div class=\"sk-toggleable__content\"><pre>LogisticRegression()</pre></div></div></div></div></div>"
      ],
      "text/plain": [
       "LogisticRegression()"
      ]
     },
     "execution_count": 5,
     "metadata": {},
     "output_type": "execute_result"
    }
   ],
   "source": [
    "modelLR.fit(X_train, y_train)"
   ]
  },
  {
   "cell_type": "markdown",
   "metadata": {},
   "source": [
    "01.05       Prediccion de los datos de testeo"
   ]
  },
  {
   "cell_type": "code",
   "execution_count": 6,
   "metadata": {},
   "outputs": [],
   "source": [
    "targetPredic= modelLR.predict(X_test)"
   ]
  },
  {
   "cell_type": "markdown",
   "metadata": {},
   "source": [
    "01.06       Muestra de resultados confusion_matrix"
   ]
  },
  {
   "cell_type": "markdown",
   "metadata": {},
   "source": [
    "01.06.01       Accuracy_score"
   ]
  },
  {
   "cell_type": "code",
   "execution_count": 7,
   "metadata": {},
   "outputs": [
    {
     "name": "stdout",
     "output_type": "stream",
     "text": [
      "0.7052023121387283\n"
     ]
    }
   ],
   "source": [
    "from sklearn.metrics import accuracy_score\n",
    "\n",
    "predictions = modelLR.predict(X_test)\n",
    "print(accuracy_score( predictions,y_test))"
   ]
  },
  {
   "cell_type": "markdown",
   "metadata": {},
   "source": [
    "01.06.02       Matris de Confusion"
   ]
  },
  {
   "cell_type": "code",
   "execution_count": 8,
   "metadata": {},
   "outputs": [],
   "source": [
    "from sklearn.metrics import confusion_matrix\n",
    "\n",
    "array = confusion_matrix(targetPredic, y_test)\n",
    "df_cm = pd.DataFrame(array)"
   ]
  },
  {
   "cell_type": "code",
   "execution_count": 9,
   "metadata": {},
   "outputs": [
    {
     "data": {
      "text/plain": [
       "Text(0.5, 1.0, 'Distribución original')"
      ]
     },
     "execution_count": 9,
     "metadata": {},
     "output_type": "execute_result"
    },
    {
     "data": {
      "image/png": "[encoded data removed]",
      "text/plain": [
       "<Figure size 600x600 with 2 Axes>"
      ]
     },
     "metadata": {},
     "output_type": "display_data"
    }
   ],
   "source": [
    "\n",
    "# sns.set(font_scale=1)\n",
    "# plt.show(sns.heatmap(df_cm, annot = True, annot_kws={\"size\":16}, cmap='Reds'))\n",
    "\n",
    "fig, axes = plt.subplots(nrows=1, ncols=1, figsize=(6, 6))\n",
    "sns.heatmap(\n",
    "    df_cm, \n",
    "    annot   = True, \n",
    "    annot_kws={\"size\":16}, \n",
    "    fmt       = '.0f',\n",
    "    cmap    ='Reds'\n",
    ")\n",
    "axes.set_title(\"Distribución original\", fontsize = 'medium')\n",
    "\n",
    "# La matris es una forma visual de ver el acuraccy = 0.7052023121387283\n"
   ]
  },
  {
   "cell_type": "markdown",
   "metadata": {},
   "source": [
    "01.06.03       classification_report"
   ]
  },
  {
   "cell_type": "code",
   "execution_count": 10,
   "metadata": {},
   "outputs": [
    {
     "name": "stdout",
     "output_type": "stream",
     "text": [
      "                   precision    recall  f1-score   support\n",
      "\n",
      "public/commercial       0.71      0.98      0.82       243\n",
      "           septic       0.54      0.07      0.12       103\n",
      "\n",
      "         accuracy                           0.71       346\n",
      "        macro avg       0.63      0.52      0.47       346\n",
      "     weighted avg       0.66      0.71      0.61       346\n",
      "\n"
     ]
    }
   ],
   "source": [
    "from sklearn.metrics import classification_report\n",
    "print(classification_report(y_test, predictions))"
   ]
  },
  {
   "cell_type": "markdown",
   "metadata": {},
   "source": [
    "01.07       La validación cruzada\n",
    "            O cross validation, se define como una técnica muy utilizada para evaluar los resultados de un análisis estadístico y garantizar que son independientes de la partición entre los datos de entrenamiento y prueba.\n",
    "            Es muy útil para validar que el modelo de aprendizaje automático elegido es el correcto y ayuda a evitar el overfitting.\n",
    "\n",
    "            Aplica el Modelo K veces con donde entrena el modelo con (k-1)/k% como train y compara con el 1/k restante como test, luego alterna con siguiente grupo k y asi con los k grupos formados.\n",
    "            \n",
    "            https://deepnote.com/@a_mas/Cross-Validation-en-Python-685fa851-b5b2-4c5b-b5fb-3dc5ae64838f\n",
    "            https://qu4nt.github.io/sklearn-doc-es/modules/generated/sklearn.model_selection.cross_val_score.html#sklearn.model_selection.cross_val_score"
   ]
  },
  {
   "cell_type": "code",
   "execution_count": 11,
   "metadata": {},
   "outputs": [
    {
     "name": "stderr",
     "output_type": "stream",
     "text": [
      "c:\\Users\\and14\\Desktop\\Proyectos\\Programacion\\Python\\2022\\Practica_20220831_ML\\01_Excercises_Jupyter\\02_Intermendio\\envDS\\lib\\site-packages\\sklearn\\utils\\validation.py:1111: DataConversionWarning: A column-vector y was passed when a 1d array was expected. Please change the shape of y to (n_samples, ), for example using ravel().\n",
      "  y = column_or_1d(y, warn=True)\n",
      "c:\\Users\\and14\\Desktop\\Proyectos\\Programacion\\Python\\2022\\Practica_20220831_ML\\01_Excercises_Jupyter\\02_Intermendio\\envDS\\lib\\site-packages\\sklearn\\utils\\validation.py:1111: DataConversionWarning: A column-vector y was passed when a 1d array was expected. Please change the shape of y to (n_samples, ), for example using ravel().\n",
      "  y = column_or_1d(y, warn=True)\n",
      "c:\\Users\\and14\\Desktop\\Proyectos\\Programacion\\Python\\2022\\Practica_20220831_ML\\01_Excercises_Jupyter\\02_Intermendio\\envDS\\lib\\site-packages\\sklearn\\utils\\validation.py:1111: DataConversionWarning: A column-vector y was passed when a 1d array was expected. Please change the shape of y to (n_samples, ), for example using ravel().\n",
      "  y = column_or_1d(y, warn=True)\n",
      "c:\\Users\\and14\\Desktop\\Proyectos\\Programacion\\Python\\2022\\Practica_20220831_ML\\01_Excercises_Jupyter\\02_Intermendio\\envDS\\lib\\site-packages\\sklearn\\utils\\validation.py:1111: DataConversionWarning: A column-vector y was passed when a 1d array was expected. Please change the shape of y to (n_samples, ), for example using ravel().\n",
      "  y = column_or_1d(y, warn=True)\n",
      "c:\\Users\\and14\\Desktop\\Proyectos\\Programacion\\Python\\2022\\Practica_20220831_ML\\01_Excercises_Jupyter\\02_Intermendio\\envDS\\lib\\site-packages\\sklearn\\utils\\validation.py:1111: DataConversionWarning: A column-vector y was passed when a 1d array was expected. Please change the shape of y to (n_samples, ), for example using ravel().\n",
      "  y = column_or_1d(y, warn=True)\n",
      "c:\\Users\\and14\\Desktop\\Proyectos\\Programacion\\Python\\2022\\Practica_20220831_ML\\01_Excercises_Jupyter\\02_Intermendio\\envDS\\lib\\site-packages\\sklearn\\utils\\validation.py:1111: DataConversionWarning: A column-vector y was passed when a 1d array was expected. Please change the shape of y to (n_samples, ), for example using ravel().\n",
      "  y = column_or_1d(y, warn=True)\n",
      "c:\\Users\\and14\\Desktop\\Proyectos\\Programacion\\Python\\2022\\Practica_20220831_ML\\01_Excercises_Jupyter\\02_Intermendio\\envDS\\lib\\site-packages\\sklearn\\utils\\validation.py:1111: DataConversionWarning: A column-vector y was passed when a 1d array was expected. Please change the shape of y to (n_samples, ), for example using ravel().\n",
      "  y = column_or_1d(y, warn=True)\n",
      "c:\\Users\\and14\\Desktop\\Proyectos\\Programacion\\Python\\2022\\Practica_20220831_ML\\01_Excercises_Jupyter\\02_Intermendio\\envDS\\lib\\site-packages\\sklearn\\utils\\validation.py:1111: DataConversionWarning: A column-vector y was passed when a 1d array was expected. Please change the shape of y to (n_samples, ), for example using ravel().\n",
      "  y = column_or_1d(y, warn=True)\n",
      "c:\\Users\\and14\\Desktop\\Proyectos\\Programacion\\Python\\2022\\Practica_20220831_ML\\01_Excercises_Jupyter\\02_Intermendio\\envDS\\lib\\site-packages\\sklearn\\utils\\validation.py:1111: DataConversionWarning: A column-vector y was passed when a 1d array was expected. Please change the shape of y to (n_samples, ), for example using ravel().\n",
      "  y = column_or_1d(y, warn=True)\n",
      "c:\\Users\\and14\\Desktop\\Proyectos\\Programacion\\Python\\2022\\Practica_20220831_ML\\01_Excercises_Jupyter\\02_Intermendio\\envDS\\lib\\site-packages\\sklearn\\utils\\validation.py:1111: DataConversionWarning: A column-vector y was passed when a 1d array was expected. Please change the shape of y to (n_samples, ), for example using ravel().\n",
      "  y = column_or_1d(y, warn=True)\n"
     ]
    }
   ],
   "source": [
    "from sklearn import model_selection\n",
    "name='Logistic Regression'\n",
    "kfold = model_selection.KFold(n_splits=10, random_state=seed,shuffle=True) # trae el seed(semilla del punto 01.03)\n",
    "cv_results = model_selection.cross_val_score(modelLR, datos_xx, datos_yy, cv=kfold, scoring='accuracy')\n",
    "msg = \"%s: %f (%f)\" % (name, cv_results.mean(), cv_results.std())"
   ]
  },
  {
   "cell_type": "code",
   "execution_count": 12,
   "metadata": {},
   "outputs": [
    {
     "name": "stdout",
     "output_type": "stream",
     "text": [
      "Logistic Regression: 0.699617 (0.033707)\n",
      "[0.73988439 0.67052023 0.71676301 0.75144509 0.67630058 0.73988439\n",
      " 0.69942197 0.66473988 0.65116279 0.68604651]\n"
     ]
    },
    {
     "data": {
      "text/plain": [
       "0.6996168839897836"
      ]
     },
     "execution_count": 12,
     "metadata": {},
     "output_type": "execute_result"
    }
   ],
   "source": [
    "print(msg)\n",
    "print(cv_results)\n",
    "cv_results.mean()"
   ]
  },
  {
   "cell_type": "markdown",
   "metadata": {},
   "source": [
    "01.08       Prueba o Uso"
   ]
  },
  {
   "cell_type": "code",
   "execution_count": 35,
   "metadata": {},
   "outputs": [
    {
     "data": {
      "text/html": [
       "<div>\n",
       "<style scoped>\n",
       "    .dataframe tbody tr th:only-of-type {\n",
       "        vertical-align: middle;\n",
       "    }\n",
       "\n",
       "    .dataframe tbody tr th {\n",
       "        vertical-align: top;\n",
       "    }\n",
       "\n",
       "    .dataframe thead th {\n",
       "        text-align: right;\n",
       "    }\n",
       "</style>\n",
       "<table border=\"1\" class=\"dataframe\">\n",
       "  <thead>\n",
       "    <tr style=\"text-align: right;\">\n",
       "      <th></th>\n",
       "      <th>precio</th>\n",
       "      <th>metros_totales</th>\n",
       "      <th>antiguedad</th>\n",
       "      <th>precio_terreno</th>\n",
       "      <th>metros_habitables</th>\n",
       "      <th>universitarios</th>\n",
       "      <th>dormitorios</th>\n",
       "      <th>banyos</th>\n",
       "      <th>habitaciones</th>\n",
       "      <th>aire_acondicionado</th>\n",
       "    </tr>\n",
       "  </thead>\n",
       "  <tbody>\n",
       "    <tr>\n",
       "      <th>0</th>\n",
       "      <td>132500</td>\n",
       "      <td>0.09</td>\n",
       "      <td>42</td>\n",
       "      <td>50000</td>\n",
       "      <td>906</td>\n",
       "      <td>35</td>\n",
       "      <td>2</td>\n",
       "      <td>1.0</td>\n",
       "      <td>5</td>\n",
       "      <td>0</td>\n",
       "    </tr>\n",
       "    <tr>\n",
       "      <th>1</th>\n",
       "      <td>181115</td>\n",
       "      <td>0.92</td>\n",
       "      <td>0</td>\n",
       "      <td>22300</td>\n",
       "      <td>1953</td>\n",
       "      <td>51</td>\n",
       "      <td>3</td>\n",
       "      <td>2.5</td>\n",
       "      <td>6</td>\n",
       "      <td>0</td>\n",
       "    </tr>\n",
       "    <tr>\n",
       "      <th>2</th>\n",
       "      <td>109000</td>\n",
       "      <td>0.19</td>\n",
       "      <td>133</td>\n",
       "      <td>7300</td>\n",
       "      <td>1944</td>\n",
       "      <td>51</td>\n",
       "      <td>4</td>\n",
       "      <td>1.0</td>\n",
       "      <td>8</td>\n",
       "      <td>0</td>\n",
       "    </tr>\n",
       "    <tr>\n",
       "      <th>3</th>\n",
       "      <td>155000</td>\n",
       "      <td>0.41</td>\n",
       "      <td>13</td>\n",
       "      <td>18700</td>\n",
       "      <td>1944</td>\n",
       "      <td>51</td>\n",
       "      <td>3</td>\n",
       "      <td>1.5</td>\n",
       "      <td>5</td>\n",
       "      <td>0</td>\n",
       "    </tr>\n",
       "    <tr>\n",
       "      <th>4</th>\n",
       "      <td>86060</td>\n",
       "      <td>0.11</td>\n",
       "      <td>0</td>\n",
       "      <td>15000</td>\n",
       "      <td>840</td>\n",
       "      <td>51</td>\n",
       "      <td>2</td>\n",
       "      <td>1.0</td>\n",
       "      <td>3</td>\n",
       "      <td>1</td>\n",
       "    </tr>\n",
       "    <tr>\n",
       "      <th>5</th>\n",
       "      <td>120000</td>\n",
       "      <td>0.68</td>\n",
       "      <td>31</td>\n",
       "      <td>14000</td>\n",
       "      <td>1152</td>\n",
       "      <td>22</td>\n",
       "      <td>4</td>\n",
       "      <td>1.0</td>\n",
       "      <td>8</td>\n",
       "      <td>0</td>\n",
       "    </tr>\n",
       "    <tr>\n",
       "      <th>6</th>\n",
       "      <td>153000</td>\n",
       "      <td>0.40</td>\n",
       "      <td>33</td>\n",
       "      <td>23300</td>\n",
       "      <td>2752</td>\n",
       "      <td>51</td>\n",
       "      <td>4</td>\n",
       "      <td>1.5</td>\n",
       "      <td>8</td>\n",
       "      <td>0</td>\n",
       "    </tr>\n",
       "    <tr>\n",
       "      <th>7</th>\n",
       "      <td>170000</td>\n",
       "      <td>1.21</td>\n",
       "      <td>23</td>\n",
       "      <td>14600</td>\n",
       "      <td>1662</td>\n",
       "      <td>35</td>\n",
       "      <td>4</td>\n",
       "      <td>1.5</td>\n",
       "      <td>9</td>\n",
       "      <td>0</td>\n",
       "    </tr>\n",
       "    <tr>\n",
       "      <th>8</th>\n",
       "      <td>90000</td>\n",
       "      <td>0.83</td>\n",
       "      <td>36</td>\n",
       "      <td>22200</td>\n",
       "      <td>1632</td>\n",
       "      <td>51</td>\n",
       "      <td>3</td>\n",
       "      <td>1.5</td>\n",
       "      <td>8</td>\n",
       "      <td>0</td>\n",
       "    </tr>\n",
       "    <tr>\n",
       "      <th>9</th>\n",
       "      <td>122900</td>\n",
       "      <td>1.94</td>\n",
       "      <td>4</td>\n",
       "      <td>21200</td>\n",
       "      <td>1416</td>\n",
       "      <td>44</td>\n",
       "      <td>3</td>\n",
       "      <td>1.5</td>\n",
       "      <td>6</td>\n",
       "      <td>0</td>\n",
       "    </tr>\n",
       "  </tbody>\n",
       "</table>\n",
       "</div>"
      ],
      "text/plain": [
       "   precio  metros_totales  antiguedad  precio_terreno  metros_habitables  \\\n",
       "0  132500            0.09          42           50000                906   \n",
       "1  181115            0.92           0           22300               1953   \n",
       "2  109000            0.19         133            7300               1944   \n",
       "3  155000            0.41          13           18700               1944   \n",
       "4   86060            0.11           0           15000                840   \n",
       "5  120000            0.68          31           14000               1152   \n",
       "6  153000            0.40          33           23300               2752   \n",
       "7  170000            1.21          23           14600               1662   \n",
       "8   90000            0.83          36           22200               1632   \n",
       "9  122900            1.94           4           21200               1416   \n",
       "\n",
       "   universitarios  dormitorios  banyos  habitaciones  aire_acondicionado  \n",
       "0              35            2     1.0             5                   0  \n",
       "1              51            3     2.5             6                   0  \n",
       "2              51            4     1.0             8                   0  \n",
       "3              51            3     1.5             5                   0  \n",
       "4              51            2     1.0             3                   1  \n",
       "5              22            4     1.0             8                   0  \n",
       "6              51            4     1.5             8                   0  \n",
       "7              35            4     1.5             9                   0  \n",
       "8              51            3     1.5             8                   0  \n",
       "9              44            3     1.5             6                   0  "
      ]
     },
     "execution_count": 35,
     "metadata": {},
     "output_type": "execute_result"
    }
   ],
   "source": [
    "datos_xx.head(10)"
   ]
  },
  {
   "cell_type": "code",
   "execution_count": 13,
   "metadata": {},
   "outputs": [
    {
     "data": {
      "text/plain": [
       "array(['public/commercial'], dtype=object)"
      ]
     },
     "execution_count": 13,
     "metadata": {},
     "output_type": "execute_result"
    }
   ],
   "source": [
    "\n",
    "X_new = pd.DataFrame({\t#'precio': [132500],\t\n",
    "\t\t\t\t\t\t'metros_totales': [0.09],\t\n",
    "\t\t\t\t\t\t'antiguedad': [42],\t\n",
    "\t\t\t\t\t\t'precio_terreno': [50000],\n",
    "\t\t\t\t\t\t'metros_habitables': [906],\t\n",
    "\t\t\t\t\t\t'universitarios': [35],\t\n",
    "\t\t\t\t\t\t'dormitorios':\t[2],\n",
    "\t\t\t\t\t\t'banyos': [1.0],\n",
    "\t\t\t\t\t\t'habitaciones': [5],\n",
    "\t\t\t\t\t\t'aire_acondicionado': [0]})\n",
    "modelLR.predict(X_new)"
   ]
  },
  {
   "cell_type": "markdown",
   "metadata": {},
   "source": [
    "01.09       Guardar Modelo"
   ]
  },
  {
   "cell_type": "code",
   "execution_count": 14,
   "metadata": {},
   "outputs": [
    {
     "data": {
      "text/plain": [
       "['C:/Users/and14/Desktop/Proyectos/Programacion/Python/2022/Practica_20220831_ML/00_Data_Sets/SaratogaHouses_Regresion_Logistica.joblib']"
      ]
     },
     "execution_count": 14,
     "metadata": {},
     "output_type": "execute_result"
    }
   ],
   "source": [
    "import joblib\n",
    "joblib.dump(modelLR,'C:/Users/and14/Desktop/Proyectos/Programacion/Python/2022/Practica_20220831_ML/00_Data_Sets/SaratogaHouses_Regresion_Logistica.joblib')"
   ]
  },
  {
   "cell_type": "markdown",
   "metadata": {},
   "source": [
    "01.10       Uso del Modelo"
   ]
  },
  {
   "cell_type": "code",
   "execution_count": 19,
   "metadata": {},
   "outputs": [
    {
     "data": {
      "text/plain": [
       "array(['public/commercial'], dtype=object)"
      ]
     },
     "execution_count": 19,
     "metadata": {},
     "output_type": "execute_result"
    }
   ],
   "source": [
    "\n",
    "modelo = joblib.load('C:/Users/and14/Desktop/Proyectos/Programacion/Python/2022/Practica_20220831_ML/00_Data_Sets/SaratogaHouses_Regresion_Logistica.joblib')\n",
    "\n",
    "example01= pd.DataFrame({\t#'precio': [132500],\t\n",
    "\t\t\t\t\t\t'metros_totales': [0.09],\t\n",
    "\t\t\t\t\t\t'antiguedad': [42],\t\n",
    "\t\t\t\t\t\t'precio_terreno': [50000],\n",
    "\t\t\t\t\t\t'metros_habitables': [906],\t\n",
    "\t\t\t\t\t\t'universitarios': [35],\t\n",
    "\t\t\t\t\t\t'dormitorios':\t[2],\n",
    "\t\t\t\t\t\t'banyos': [1.0],\n",
    "\t\t\t\t\t\t'habitaciones': [5],\n",
    "\t\t\t\t\t\t'aire_acondicionado': [0]})\n",
    "predicciones =  modelo.predict(example01)\n",
    "predicciones"
   ]
  }
 ],
 "metadata": {
  "kernelspec": {
   "display_name": "Python 3.9.1 ('envDS': venv)",
   "language": "python",
   "name": "python3"
  },
  "language_info": {
   "codemirror_mode": {
    "name": "ipython",
    "version": 3
   },
   "file_extension": ".py",
   "mimetype": "text/x-python",
   "name": "python",
   "nbconvert_exporter": "python",
   "pygments_lexer": "ipython3",
   "version": "3.9.1"
  },
  "orig_nbformat": 4,
  "vscode": {
   "interpreter": {
    "hash": "995346e09fb446ba2efbd9d1991cfbc82545d23f122135d8e364a6a9ff90cf1f"
   }
  }
 },
 "nbformat": 4,
 "nbformat_minor": 2
}
