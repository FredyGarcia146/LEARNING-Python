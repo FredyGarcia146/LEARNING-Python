{
 "cells": [
  {
   "cell_type": "markdown",
   "metadata": {},
   "source": [
    "00  -   INICIO \n",
    "        Formato de DataFrame\n",
    "        Datos numerico 100%\n",
    "        https://www.aprendemachinelearning.com/regresion-logistica-con-python-paso-a-paso/\n",
    "\n",
    "        https://deepnote.com/@a_mas/Cross-Validation-en-Python-685fa851-b5b2-4c5b-b5fb-3dc5ae64838f\n",
    "\n",
    "        https://www.cienciadedatos.net/documentos/py17-regresion-logistica-python.html\n",
    "\n",
    "        https://www.cienciadedatos.net/documentos/py06_machine_learning_python_scikitlearn.html\n",
    "        \n",
    "        https://qu4nt.github.io/sklearn-doc-es/modules/generated/sklearn.model_selection.cross_val_score.html#sklearn.model_selection.cross_val_score"
   ]
  },
  {
   "cell_type": "code",
   "execution_count": 2,
   "metadata": {},
   "outputs": [],
   "source": [
    "# Tratamiento de datos\n",
    "# ==============================================================================\n",
    "import pandas as pd\n",
    "import numpy as np\n",
    "# Gráficos\n",
    "# ==============================================================================\n",
    "import seaborn as sns\n",
    "import matplotlib.pyplot as plt\n",
    "# Gráfico de distribución para cada variable numérica\n",
    "import matplotlib.ticker as ticker\n",
    "# ==============================================================================\n",
    "# Identificador de tipos de Distribucion\n",
    "# ==============================================================================\n",
    "from fitter import Fitter, get_common_distributions\n",
    "# ==============================================================================\n",
    "url = \"C:/Users/and14/Desktop/Proyectos/Programacion/Python/2022/Practica_20220831_ML/00_Data_Sets/healthcare-dataset-stroke-data.csv\"\n",
    "\n",
    "datos = pd.read_csv(url, sep=\",\").drop('id', axis = 'columns')\n",
    "\n",
    "\n",
    "# Se renombran las columnas para que sean más descriptivas\n",
    "datos.columns = [\"Genero\",\t\n",
    "                \"Edad\"\t,\n",
    "                \"Hipertension\"\t,\n",
    "                \"Enfermo_Corazon\"\t,\n",
    "                \"Casado_Historia\",\n",
    "                \"Tipo_Trabajo\"\t,\n",
    "                \"Tipo_Residencia\"\t,\n",
    "                \"Nivel_Glucosa\"\t,\n",
    "                \"bmi\"\t,\n",
    "                \"Fumador\"\t,\n",
    "                \"Derrame_Cerebral\"]\n"
   ]
  },
  {
   "cell_type": "code",
   "execution_count": null,
   "metadata": {},
   "outputs": [],
   "source": [
    "# SELECCIONAR EL TOP 20 \n",
    "datos.head(20)"
   ]
  },
  {
   "cell_type": "code",
   "execution_count": 5,
   "metadata": {},
   "outputs": [
    {
     "data": {
      "text/plain": [
       "0    4612\n",
       "1     498\n",
       "Name: Hipertension, dtype: int64"
      ]
     },
     "execution_count": 5,
     "metadata": {},
     "output_type": "execute_result"
    }
   ],
   "source": [
    "# Contar valores de una variable\n",
    "datos[\"Hipertension\"].value_counts()"
   ]
  },
  {
   "cell_type": "code",
   "execution_count": 6,
   "metadata": {},
   "outputs": [
    {
     "name": "stdout",
     "output_type": "stream",
     "text": [
      "<class 'pandas.core.frame.DataFrame'>\n",
      "RangeIndex: 5110 entries, 0 to 5109\n",
      "Data columns (total 11 columns):\n",
      " #   Column            Non-Null Count  Dtype  \n",
      "---  ------            --------------  -----  \n",
      " 0   Genero            5110 non-null   object \n",
      " 1   Edad              5110 non-null   float64\n",
      " 2   Hipertension      5110 non-null   int64  \n",
      " 3   Enfermo_Corazon   5110 non-null   int64  \n",
      " 4   Casado_Historia   5110 non-null   object \n",
      " 5   Tipo_Trabajo      5110 non-null   object \n",
      " 6   Tipo_Residencia   5110 non-null   object \n",
      " 7   Nivel_Glucosa     5110 non-null   float64\n",
      " 8   bmi               4909 non-null   float64\n",
      " 9   Fumador           5110 non-null   object \n",
      " 10  Derrame_Cerebral  5110 non-null   int64  \n",
      "dtypes: float64(3), int64(3), object(5)\n",
      "memory usage: 439.3+ KB\n"
     ]
    }
   ],
   "source": [
    "# VER TIPOS DE DATOS Y VALIDAR QUE NO HAYA NULLS - \n",
    "datos.info()\n",
    "\n",
    "# #Limpiar datos\n",
    "# datos = datos.fillna(0)"
   ]
  },
  {
   "cell_type": "markdown",
   "metadata": {},
   "source": [
    "01  -   ANALISIS DE LOS DATOS"
   ]
  },
  {
   "cell_type": "markdown",
   "metadata": {},
   "source": [
    "01.01   Analisis de Variable Dependiente"
   ]
  },
  {
   "cell_type": "markdown",
   "metadata": {},
   "source": [
    "01.01.01    Grafico de Barras"
   ]
  },
  {
   "cell_type": "code",
   "execution_count": 28,
   "metadata": {},
   "outputs": [
    {
     "data": {
      "image/png": "[encoded data removed]",
      "text/plain": [
       "<Figure size 600x300 with 1 Axes>"
      ]
     },
     "metadata": {},
     "output_type": "display_data"
    }
   ],
   "source": [
    "\n",
    "# ==============================================================================\n",
    "# Ajustar número de subplots en función del número de columnas\n",
    "fig, axes = plt.subplots(nrows=1, ncols=1, figsize=(6, 3))\n",
    "#axes = axes.flat # solo cuando hay mas de 1 espacio de grafico\n",
    "datos['Derrame_Cerebral'].value_counts().plot.bar(ax = axes)\n",
    "\n",
    "axes.tick_params(labelsize = 6)\n",
    "axes.set_ylabel(\"Derrame_Cerebral\")\n",
    "axes.set_xlabel(\"Q\")\n",
    "\n",
    "\n",
    "plt.subplots_adjust(top=0.9)\n",
    "fig.suptitle('Distribución variables dependiente',\n",
    "             fontsize = 10, fontweight = \"bold\");"
   ]
  },
  {
   "cell_type": "markdown",
   "metadata": {},
   "source": [
    "01.01.01    Grafico de tarta"
   ]
  },
  {
   "cell_type": "code",
   "execution_count": 42,
   "metadata": {},
   "outputs": [
    {
     "data": {
      "image/png": "[encoded data removed]",
      "text/plain": [
       "<Figure size 600x600 with 1 Axes>"
      ]
     },
     "metadata": {},
     "output_type": "display_data"
    }
   ],
   "source": [
    "def func(pct, allvalues):\n",
    "    absolute = int(pct / 100.*np.sum(allvalues))\n",
    "    return \"{:.1f}%\\n({:d})\".format(pct, absolute)\n",
    " \n",
    "fig, axes = plt.subplots(nrows=1, ncols=1, figsize=(6, 6))\n",
    "wedges, texts, autotexts =axes.pie(  datos['Derrame_Cerebral'].value_counts(), \n",
    "                                    autopct=lambda pct: func(pct, datos['Derrame_Cerebral'].value_counts()), \n",
    "                                    shadow=True)\n",
    "plt.setp(autotexts, size=8, weight=\"bold\")\n",
    "axes.set_title(\"Variables de Dolor\")\n",
    " \n",
    "plt.show()"
   ]
  },
  {
   "cell_type": "markdown",
   "metadata": {},
   "source": [
    "01.02   Analisis de Variables Independientes"
   ]
  },
  {
   "cell_type": "markdown",
   "metadata": {},
   "source": [
    "01.02.01    Variables Numericas"
   ]
  },
  {
   "cell_type": "markdown",
   "metadata": {},
   "source": [
    "01.02.01.01     Grafico Histograma de las variables independientes"
   ]
  },
  {
   "cell_type": "code",
   "execution_count": 16,
   "metadata": {},
   "outputs": [
    {
     "data": {
      "image/png": "[encoded data removed]",
      "text/plain": [
       "<Figure size 900x500 with 6 Axes>"
      ]
     },
     "metadata": {},
     "output_type": "display_data"
    }
   ],
   "source": [
    "# Gráfico de distribución para cada variable numérica\n",
    "# ==============================================================================\n",
    "# Ajustar número de subplots en función del número de columnas\n",
    "fig, axes = plt.subplots(nrows=3, ncols=3, figsize=(9, 5))\n",
    "axes = axes.flat\n",
    "columnas_numeric = datos.select_dtypes(include=['float64', 'int']).columns\n",
    "columnas_numeric = columnas_numeric.drop('Derrame_Cerebral')\n",
    "\n",
    "for i, colum in enumerate(columnas_numeric):\n",
    "    sns.histplot(\n",
    "        data    = datos,\n",
    "        x       = colum, # dato a calcular\n",
    "        stat    = \"count\", # medida a calcular\n",
    "        kde     = True, # habilitar linea del histograma\n",
    "        color   = (list(plt.rcParams['axes.prop_cycle'])*2)[i][\"color\"], # formato de colores\n",
    "        line_kws= {'linewidth': 2}, # grosor de las lineas del histograma\n",
    "        alpha   = 0.3, # contraste de la barras del histogrma \n",
    "        ax      = axes[i] # posicion de la figura en la hoja\n",
    "    )\n",
    "    axes[i].set_title(colum, fontsize = 7, fontweight = \"bold\") # titulo de la figura\n",
    "    axes[i].tick_params(labelsize = 6) # tamaño de letra del eje Y\n",
    "    axes[i].set_xlabel(\"\") # nombre del eje x \n",
    "\n",
    "for i in [6,7,8]:\n",
    "    fig.delaxes(axes[i])   \n",
    "    \n",
    "fig.tight_layout() # extension de la hoja por la extension del espacio\n",
    "plt.subplots_adjust(top = 0.9) # ajuste de figura respecto a la parte superior de la hoja\n",
    "fig.suptitle('Distribución variables numéricas', fontsize = 10, fontweight = \"bold\");# titulo de la hoja\n",
    "del columnas_numeric"
   ]
  },
  {
   "cell_type": "markdown",
   "metadata": {},
   "source": [
    "01.02.01.01     Grafico Barras de las variables independientes Discretas"
   ]
  },
  {
   "cell_type": "code",
   "execution_count": 7,
   "metadata": {},
   "outputs": [
    {
     "data": {
      "text/plain": [
       "Index(['Genero', 'Casado_Historia', 'Tipo_Trabajo', 'Tipo_Residencia',\n",
       "       'Fumador'],\n",
       "      dtype='object')"
      ]
     },
     "execution_count": 7,
     "metadata": {},
     "output_type": "execute_result"
    }
   ],
   "source": [
    "datos.select_dtypes(include=['object']).columns"
   ]
  },
  {
   "cell_type": "code",
   "execution_count": 56,
   "metadata": {},
   "outputs": [
    {
     "data": {
      "text/plain": [
       "<AxesSubplot: xlabel='Derrame_Cerebral', ylabel='count'>"
      ]
     },
     "execution_count": 56,
     "metadata": {},
     "output_type": "execute_result"
    },
    {
     "data": {
      "image/png": "[encoded data removed]",
      "text/plain": [
       "<Figure size 640x480 with 1 Axes>"
      ]
     },
     "metadata": {},
     "output_type": "display_data"
    }
   ],
   "source": [
    "columnas_Y = datos['Derrame_Cerebral']\n",
    "columnas_X = datos['Hipertension']\n",
    "\n",
    "sns.countplot(x =columnas_Y, data = datos, hue = columnas_X)"
   ]
  },
  {
   "cell_type": "code",
   "execution_count": 7,
   "metadata": {},
   "outputs": [
    {
     "data": {
      "text/html": [
       "<div>\n",
       "<style scoped>\n",
       "    .dataframe tbody tr th:only-of-type {\n",
       "        vertical-align: middle;\n",
       "    }\n",
       "\n",
       "    .dataframe tbody tr th {\n",
       "        vertical-align: top;\n",
       "    }\n",
       "\n",
       "    .dataframe thead th {\n",
       "        text-align: right;\n",
       "    }\n",
       "</style>\n",
       "<table border=\"1\" class=\"dataframe\">\n",
       "  <thead>\n",
       "    <tr style=\"text-align: right;\">\n",
       "      <th></th>\n",
       "      <th>Hipertension</th>\n",
       "      <th>Enfermo_Corazon</th>\n",
       "    </tr>\n",
       "  </thead>\n",
       "  <tbody>\n",
       "    <tr>\n",
       "      <th>0</th>\n",
       "      <td>0</td>\n",
       "      <td>1</td>\n",
       "    </tr>\n",
       "    <tr>\n",
       "      <th>1</th>\n",
       "      <td>0</td>\n",
       "      <td>0</td>\n",
       "    </tr>\n",
       "    <tr>\n",
       "      <th>2</th>\n",
       "      <td>0</td>\n",
       "      <td>1</td>\n",
       "    </tr>\n",
       "    <tr>\n",
       "      <th>3</th>\n",
       "      <td>0</td>\n",
       "      <td>0</td>\n",
       "    </tr>\n",
       "    <tr>\n",
       "      <th>4</th>\n",
       "      <td>1</td>\n",
       "      <td>0</td>\n",
       "    </tr>\n",
       "    <tr>\n",
       "      <th>...</th>\n",
       "      <td>...</td>\n",
       "      <td>...</td>\n",
       "    </tr>\n",
       "    <tr>\n",
       "      <th>5105</th>\n",
       "      <td>1</td>\n",
       "      <td>0</td>\n",
       "    </tr>\n",
       "    <tr>\n",
       "      <th>5106</th>\n",
       "      <td>0</td>\n",
       "      <td>0</td>\n",
       "    </tr>\n",
       "    <tr>\n",
       "      <th>5107</th>\n",
       "      <td>0</td>\n",
       "      <td>0</td>\n",
       "    </tr>\n",
       "    <tr>\n",
       "      <th>5108</th>\n",
       "      <td>0</td>\n",
       "      <td>0</td>\n",
       "    </tr>\n",
       "    <tr>\n",
       "      <th>5109</th>\n",
       "      <td>0</td>\n",
       "      <td>0</td>\n",
       "    </tr>\n",
       "  </tbody>\n",
       "</table>\n",
       "<p>5110 rows × 2 columns</p>\n",
       "</div>"
      ],
      "text/plain": [
       "      Hipertension  Enfermo_Corazon\n",
       "0                0                1\n",
       "1                0                0\n",
       "2                0                1\n",
       "3                0                0\n",
       "4                1                0\n",
       "...            ...              ...\n",
       "5105             1                0\n",
       "5106             0                0\n",
       "5107             0                0\n",
       "5108             0                0\n",
       "5109             0                0\n",
       "\n",
       "[5110 rows x 2 columns]"
      ]
     },
     "execution_count": 7,
     "metadata": {},
     "output_type": "execute_result"
    }
   ],
   "source": [
    "datos[['Hipertension', 'Enfermo_Corazon']]"
   ]
  },
  {
   "cell_type": "code",
   "execution_count": 10,
   "metadata": {},
   "outputs": [
    {
     "data": {
      "image/png": "[encoded data removed]",
      "text/plain": [
       "<Figure size 900x500 with 2 Axes>"
      ]
     },
     "metadata": {},
     "output_type": "display_data"
    }
   ],
   "source": [
    "# Gráfico de distribución para cada variable numérica\n",
    "# ==============================================================================\n",
    "# Ajustar número de subplots en función del número de columnas\n",
    "fig, axes = plt.subplots(nrows=2, ncols=2, figsize=(9, 5))\n",
    "axes = axes.flat\n",
    "columnas_Discretas = datos[['Hipertension', 'Enfermo_Corazon']]\n",
    "columnas_X = datos['Derrame_Cerebral']\n",
    "\n",
    "for i, colum in enumerate(columnas_Discretas):\n",
    "\n",
    "    sns.countplot(x =columnas_X, data = datos, hue = colum, ax= axes[i])\n",
    "\n",
    "for i in [2,3]:\n",
    "    fig.delaxes(axes[i])   \n",
    "    \n",
    "fig.tight_layout() # extension de la hoja por la extension del espacio\n",
    "plt.subplots_adjust(top = 0.9) # ajuste de figura respecto a la parte superior de la hoja\n",
    "fig.suptitle('Distribución variables numéricas Discretas', fontsize = 10, fontweight = \"bold\");# titulo de la hoja\n",
    "del columnas_Discretas\n",
    "del columnas_X"
   ]
  },
  {
   "cell_type": "markdown",
   "metadata": {},
   "source": [
    "01.02.01    Variables Categoricas"
   ]
  },
  {
   "cell_type": "markdown",
   "metadata": {},
   "source": [
    "01.02.01.02     Grafico Violin de densidad de relacion variable independientes vs Categorica(dependiente)"
   ]
  },
  {
   "cell_type": "code",
   "execution_count": 7,
   "metadata": {},
   "outputs": [
    {
     "data": {
      "image/png": "[encoded data removed]",
      "text/plain": [
       "<Figure size 900x500 with 8 Axes>"
      ]
     },
     "metadata": {},
     "output_type": "display_data"
    }
   ],
   "source": [
    "# Gráfico relación entre el precio y cada cada variables cualitativas\n",
    "import matplotlib.ticker as ticker\n",
    "# ==============================================================================\n",
    "# Ajustar número de subplots en función del número de columnas\n",
    "fig, axes = plt.subplots(nrows=3, ncols=3, figsize=(9, 5))\n",
    "axes = axes.flat\n",
    "columnas_numeric = datos.select_dtypes(include=['float64', 'int']).columns\n",
    "columnas_numeric = columnas_numeric.drop('Derrame_Cerebral')\n",
    "\n",
    "for i, colum in enumerate(columnas_numeric):\n",
    "    sns.violinplot(\n",
    "        x     = 'Derrame_Cerebral',\n",
    "        y     = colum,\n",
    "        data  = datos,\n",
    "        color = \"orange\",\n",
    "        ax    = axes[i]\n",
    "    )\n",
    "    axes[i].set_title(f\"{colum} vs Derrame_Cerebral\", fontsize = 7, fontweight = \"bold\")\n",
    "    axes[i].yaxis.set_major_formatter(ticker.EngFormatter())\n",
    "    axes[i].tick_params(labelsize = 6)\n",
    "    axes[i].set_xlabel(\"\")\n",
    "    axes[i].set_ylabel(\"\")\n",
    "\n",
    "# Se eliminan los axes vacíos\n",
    "for i in [8]:\n",
    "    fig.delaxes(axes[i])\n",
    "    \n",
    "fig.tight_layout()\n",
    "plt.subplots_adjust(top=0.9)\n",
    "fig.suptitle('Distribución del resultado de Derrame_Cerebral', fontsize = 10, fontweight = \"bold\");"
   ]
  },
  {
   "cell_type": "markdown",
   "metadata": {},
   "source": [
    "00.02       PRE PROCESADO"
   ]
  },
  {
   "cell_type": "code",
   "execution_count": null,
   "metadata": {},
   "outputs": [],
   "source": []
  },
  {
   "cell_type": "markdown",
   "metadata": {},
   "source": [
    "01  -   REGRESION LOGISTICA - Statsmodels"
   ]
  },
  {
   "cell_type": "markdown",
   "metadata": {},
   "source": [
    "01.01       Llamada de libreria\n",
    "            En conclusión, la \n",
    "            Regresión Lineal:\n",
    "                Es un algoritmo de regresión por lo que la utilizamos para predecir un valor numérico, mientras que la \n",
    "            Regresión Logística:\n",
    "                Es un algoritmo de clasificación por lo que la utilizamos para predecir entre dos opciones."
   ]
  },
  {
   "cell_type": "code",
   "execution_count": 52,
   "metadata": {},
   "outputs": [],
   "source": [
    "import statsmodels.api as sm"
   ]
  },
  {
   "cell_type": "code",
   "execution_count": 43,
   "metadata": {},
   "outputs": [
    {
     "name": "stdout",
     "output_type": "stream",
     "text": [
      "Número de observaciones por clase\n",
      "0    500\n",
      "1    268\n",
      "Name: resultado, dtype: int64\n",
      "\n"
     ]
    }
   ],
   "source": [
    "print(\"Número de observaciones por clase\")\n",
    "print(datos['resultado'].value_counts())\n",
    "print(\"\")\n"
   ]
  },
  {
   "cell_type": "markdown",
   "metadata": {},
   "source": [
    "01.02       Seteado de datos"
   ]
  },
  {
   "cell_type": "code",
   "execution_count": 127,
   "metadata": {},
   "outputs": [],
   "source": [
    "\n",
    "datos_xx = datos\n",
    "datos_yy =datos['resultado']"
   ]
  },
  {
   "cell_type": "code",
   "execution_count": 128,
   "metadata": {},
   "outputs": [
    {
     "name": "stdout",
     "output_type": "stream",
     "text": [
      "<class 'pandas.core.frame.DataFrame'>\n",
      "RangeIndex: 768 entries, 0 to 767\n",
      "Data columns (total 9 columns):\n",
      " #   Column                Non-Null Count  Dtype  \n",
      "---  ------                --------------  -----  \n",
      " 0   Embarazos             768 non-null    int64  \n",
      " 1   glucosa               768 non-null    int64  \n",
      " 2   presion_arterial      768 non-null    int64  \n",
      " 3   grosor_piel           768 non-null    int64  \n",
      " 4   insulina              768 non-null    int64  \n",
      " 5   indice_masa_corporal  768 non-null    float64\n",
      " 6   FP_diabetes           768 non-null    float64\n",
      " 7   edad                  768 non-null    int64  \n",
      " 8   resultado             768 non-null    int64  \n",
      "dtypes: float64(2), int64(7)\n",
      "memory usage: 54.1 KB\n",
      "<class 'pandas.core.series.Series'>\n",
      "RangeIndex: 768 entries, 0 to 767\n",
      "Series name: resultado\n",
      "Non-Null Count  Dtype\n",
      "--------------  -----\n",
      "768 non-null    int64\n",
      "dtypes: int64(1)\n",
      "memory usage: 6.1 KB\n"
     ]
    }
   ],
   "source": [
    "datos_xx.info()\n",
    "datos_yy.info()"
   ]
  },
  {
   "cell_type": "markdown",
   "metadata": {},
   "source": [
    "01.03       Reparto de data - test y train\n",
    "            random_state    :\n",
    "                simplemente fija una semilla para el generador de números aleatorios, lo que permite  reproducir la función. Es decir los registros seleccionados seran los mismos en cada ejecucion para el train y el test.\n",
    "            shuffle         : \n",
    "                (que toma el valor True por defecto) especifica si los registros deberán ser desordenados previamente o no."
   ]
  },
  {
   "cell_type": "code",
   "execution_count": 160,
   "metadata": {},
   "outputs": [],
   "source": [
    "# Reparto de datos en train y test\n",
    "# ==============================================================================\n",
    "trainSize = 0.80\n",
    "seed = 1234 # semilla(random_state)\n",
    "from sklearn.model_selection import train_test_split\n",
    "X_train, X_test, y_train, y_test = train_test_split(\n",
    "                                        datos_xx.drop('resultado', axis = 'columns'),\n",
    "                                        datos_yy,\n",
    "                                        train_size   = trainSize,\n",
    "                                        random_state = seed,\n",
    "                                        shuffle      = True\n",
    "                                    )"
   ]
  },
  {
   "cell_type": "code",
   "execution_count": 71,
   "metadata": {},
   "outputs": [
    {
     "name": "stdout",
     "output_type": "stream",
     "text": [
      "<class 'pandas.core.frame.DataFrame'>\n",
      "Int64Index: 614 entries, 733 to 723\n",
      "Data columns (total 9 columns):\n",
      " #   Column                Non-Null Count  Dtype  \n",
      "---  ------                --------------  -----  \n",
      " 0   const                 614 non-null    float64\n",
      " 1   Embarazos             614 non-null    int64  \n",
      " 2   glucosa               614 non-null    int64  \n",
      " 3   presion_arterial      614 non-null    int64  \n",
      " 4   grosor_piel           614 non-null    int64  \n",
      " 5   insulina              614 non-null    int64  \n",
      " 6   indice_masa_corporal  614 non-null    float64\n",
      " 7   FP_diabetes           614 non-null    float64\n",
      " 8   edad                  614 non-null    int64  \n",
      "dtypes: float64(3), int64(6)\n",
      "memory usage: 48.0 KB\n",
      "<class 'pandas.core.frame.DataFrame'>\n",
      "Int64Index: 154 entries, 200 to 228\n",
      "Data columns (total 9 columns):\n",
      " #   Column                Non-Null Count  Dtype  \n",
      "---  ------                --------------  -----  \n",
      " 0   const                 154 non-null    float64\n",
      " 1   Embarazos             154 non-null    int64  \n",
      " 2   glucosa               154 non-null    int64  \n",
      " 3   presion_arterial      154 non-null    int64  \n",
      " 4   grosor_piel           154 non-null    int64  \n",
      " 5   insulina              154 non-null    int64  \n",
      " 6   indice_masa_corporal  154 non-null    float64\n",
      " 7   FP_diabetes           154 non-null    float64\n",
      " 8   edad                  154 non-null    int64  \n",
      "dtypes: float64(3), int64(6)\n",
      "memory usage: 12.0 KB\n"
     ]
    }
   ],
   "source": [
    "X_train.info()\n",
    "X_test.info()"
   ]
  },
  {
   "cell_type": "code",
   "execution_count": 72,
   "metadata": {},
   "outputs": [
    {
     "name": "stdout",
     "output_type": "stream",
     "text": [
      "<class 'pandas.core.series.Series'>\n",
      "Int64Index: 614 entries, 733 to 723\n",
      "Series name: resultado\n",
      "Non-Null Count  Dtype\n",
      "--------------  -----\n",
      "614 non-null    int64\n",
      "dtypes: int64(1)\n",
      "memory usage: 9.6 KB\n",
      "<class 'pandas.core.series.Series'>\n",
      "Int64Index: 154 entries, 200 to 228\n",
      "Series name: resultado\n",
      "Non-Null Count  Dtype\n",
      "--------------  -----\n",
      "154 non-null    int64\n",
      "dtypes: int64(1)\n",
      "memory usage: 2.4 KB\n"
     ]
    }
   ],
   "source": [
    "y_train.info()\n",
    "y_test.info()"
   ]
  },
  {
   "cell_type": "markdown",
   "metadata": {},
   "source": [
    "01.04       Entrenamiento del Modelo"
   ]
  },
  {
   "cell_type": "code",
   "execution_count": 161,
   "metadata": {},
   "outputs": [
    {
     "name": "stdout",
     "output_type": "stream",
     "text": [
      "Optimization terminated successfully.\n",
      "         Current function value: 0.466913\n",
      "         Iterations 6\n",
      "                           Logit Regression Results                           \n",
      "==============================================================================\n",
      "Dep. Variable:              resultado   No. Observations:                  614\n",
      "Model:                          Logit   Df Residuals:                      605\n",
      "Method:                           MLE   Df Model:                            8\n",
      "Date:                Thu, 22 Sep 2022   Pseudo R-squ.:                  0.2767\n",
      "Time:                        21:26:08   Log-Likelihood:                -286.68\n",
      "converged:                       True   LL-Null:                       -396.34\n",
      "Covariance Type:            nonrobust   LLR p-value:                 5.369e-43\n",
      "========================================================================================\n",
      "                           coef    std err          z      P>|z|      [0.025      0.975]\n",
      "----------------------------------------------------------------------------------------\n",
      "const                   -8.3873      0.805    -10.415      0.000      -9.966      -6.809\n",
      "Embarazos                0.1273      0.035      3.609      0.000       0.058       0.196\n",
      "glucosa                  0.0348      0.004      8.446      0.000       0.027       0.043\n",
      "presion_arterial        -0.0137      0.006     -2.368      0.018      -0.025      -0.002\n",
      "grosor_piel             -0.0051      0.008     -0.647      0.518      -0.020       0.010\n",
      "insulina                -0.0003      0.001     -0.273      0.785      -0.002       0.002\n",
      "indice_masa_corporal     0.0930      0.017      5.473      0.000       0.060       0.126\n",
      "FP_diabetes              1.1283      0.350      3.220      0.001       0.442       1.815\n",
      "edad                     0.0108      0.010      1.049      0.294      -0.009       0.031\n",
      "========================================================================================\n"
     ]
    }
   ],
   "source": [
    "# Creación del modelo utilizando matrices como en scikitlearn\n",
    "import statsmodels.api as sm\n",
    "# ==============================================================================\n",
    "# A la matriz de predictores se le tiene que añadir una columna de 1s para el intercept del modelo\n",
    "X_train = sm.add_constant(X_train, prepend=True)\n",
    "modelLR = sm.Logit(endog=y_train, exog=X_train,)\n",
    "modelLR = modelLR.fit()\n",
    "print(modelLR.summary())"
   ]
  },
  {
   "cell_type": "markdown",
   "metadata": {},
   "source": [
    "01.05       Prediccion de los datos de testeo"
   ]
  },
  {
   "cell_type": "code",
   "execution_count": 164,
   "metadata": {},
   "outputs": [
    {
     "data": {
      "text/html": [
       "<div>\n",
       "<style scoped>\n",
       "    .dataframe tbody tr th:only-of-type {\n",
       "        vertical-align: middle;\n",
       "    }\n",
       "\n",
       "    .dataframe tbody tr th {\n",
       "        vertical-align: top;\n",
       "    }\n",
       "\n",
       "    .dataframe thead th {\n",
       "        text-align: right;\n",
       "    }\n",
       "</style>\n",
       "<table border=\"1\" class=\"dataframe\">\n",
       "  <thead>\n",
       "    <tr style=\"text-align: right;\">\n",
       "      <th></th>\n",
       "      <th>const</th>\n",
       "      <th>Embarazos</th>\n",
       "      <th>glucosa</th>\n",
       "      <th>presion_arterial</th>\n",
       "      <th>grosor_piel</th>\n",
       "      <th>insulina</th>\n",
       "      <th>indice_masa_corporal</th>\n",
       "      <th>FP_diabetes</th>\n",
       "      <th>edad</th>\n",
       "    </tr>\n",
       "  </thead>\n",
       "  <tbody>\n",
       "    <tr>\n",
       "      <th>200</th>\n",
       "      <td>1.0</td>\n",
       "      <td>0</td>\n",
       "      <td>113</td>\n",
       "      <td>80</td>\n",
       "      <td>16</td>\n",
       "      <td>0</td>\n",
       "      <td>31.0</td>\n",
       "      <td>0.874</td>\n",
       "      <td>21</td>\n",
       "    </tr>\n",
       "    <tr>\n",
       "      <th>40</th>\n",
       "      <td>1.0</td>\n",
       "      <td>3</td>\n",
       "      <td>180</td>\n",
       "      <td>64</td>\n",
       "      <td>25</td>\n",
       "      <td>70</td>\n",
       "      <td>34.0</td>\n",
       "      <td>0.271</td>\n",
       "      <td>26</td>\n",
       "    </tr>\n",
       "    <tr>\n",
       "      <th>630</th>\n",
       "      <td>1.0</td>\n",
       "      <td>7</td>\n",
       "      <td>114</td>\n",
       "      <td>64</td>\n",
       "      <td>0</td>\n",
       "      <td>0</td>\n",
       "      <td>27.4</td>\n",
       "      <td>0.732</td>\n",
       "      <td>34</td>\n",
       "    </tr>\n",
       "    <tr>\n",
       "      <th>356</th>\n",
       "      <td>1.0</td>\n",
       "      <td>1</td>\n",
       "      <td>125</td>\n",
       "      <td>50</td>\n",
       "      <td>40</td>\n",
       "      <td>167</td>\n",
       "      <td>33.3</td>\n",
       "      <td>0.962</td>\n",
       "      <td>28</td>\n",
       "    </tr>\n",
       "    <tr>\n",
       "      <th>305</th>\n",
       "      <td>1.0</td>\n",
       "      <td>2</td>\n",
       "      <td>120</td>\n",
       "      <td>76</td>\n",
       "      <td>37</td>\n",
       "      <td>105</td>\n",
       "      <td>39.7</td>\n",
       "      <td>0.215</td>\n",
       "      <td>29</td>\n",
       "    </tr>\n",
       "    <tr>\n",
       "      <th>267</th>\n",
       "      <td>1.0</td>\n",
       "      <td>2</td>\n",
       "      <td>128</td>\n",
       "      <td>64</td>\n",
       "      <td>42</td>\n",
       "      <td>0</td>\n",
       "      <td>40.0</td>\n",
       "      <td>1.101</td>\n",
       "      <td>24</td>\n",
       "    </tr>\n",
       "    <tr>\n",
       "      <th>351</th>\n",
       "      <td>1.0</td>\n",
       "      <td>4</td>\n",
       "      <td>137</td>\n",
       "      <td>84</td>\n",
       "      <td>0</td>\n",
       "      <td>0</td>\n",
       "      <td>31.2</td>\n",
       "      <td>0.252</td>\n",
       "      <td>30</td>\n",
       "    </tr>\n",
       "    <tr>\n",
       "      <th>644</th>\n",
       "      <td>1.0</td>\n",
       "      <td>3</td>\n",
       "      <td>103</td>\n",
       "      <td>72</td>\n",
       "      <td>30</td>\n",
       "      <td>152</td>\n",
       "      <td>27.6</td>\n",
       "      <td>0.730</td>\n",
       "      <td>27</td>\n",
       "    </tr>\n",
       "    <tr>\n",
       "      <th>759</th>\n",
       "      <td>1.0</td>\n",
       "      <td>6</td>\n",
       "      <td>190</td>\n",
       "      <td>92</td>\n",
       "      <td>0</td>\n",
       "      <td>0</td>\n",
       "      <td>35.5</td>\n",
       "      <td>0.278</td>\n",
       "      <td>66</td>\n",
       "    </tr>\n",
       "    <tr>\n",
       "      <th>157</th>\n",
       "      <td>1.0</td>\n",
       "      <td>1</td>\n",
       "      <td>109</td>\n",
       "      <td>56</td>\n",
       "      <td>21</td>\n",
       "      <td>135</td>\n",
       "      <td>25.2</td>\n",
       "      <td>0.833</td>\n",
       "      <td>23</td>\n",
       "    </tr>\n",
       "  </tbody>\n",
       "</table>\n",
       "</div>"
      ],
      "text/plain": [
       "     const  Embarazos  glucosa  presion_arterial  grosor_piel  insulina  \\\n",
       "200    1.0          0      113                80           16         0   \n",
       "40     1.0          3      180                64           25        70   \n",
       "630    1.0          7      114                64            0         0   \n",
       "356    1.0          1      125                50           40       167   \n",
       "305    1.0          2      120                76           37       105   \n",
       "267    1.0          2      128                64           42         0   \n",
       "351    1.0          4      137                84            0         0   \n",
       "644    1.0          3      103                72           30       152   \n",
       "759    1.0          6      190                92            0         0   \n",
       "157    1.0          1      109                56           21       135   \n",
       "\n",
       "     indice_masa_corporal  FP_diabetes  edad  \n",
       "200                  31.0        0.874    21  \n",
       "40                   34.0        0.271    26  \n",
       "630                  27.4        0.732    34  \n",
       "356                  33.3        0.962    28  \n",
       "305                  39.7        0.215    29  \n",
       "267                  40.0        1.101    24  \n",
       "351                  31.2        0.252    30  \n",
       "644                  27.6        0.730    27  \n",
       "759                  35.5        0.278    66  \n",
       "157                  25.2        0.833    23  "
      ]
     },
     "execution_count": 164,
     "metadata": {},
     "output_type": "execute_result"
    }
   ],
   "source": [
    "X_test = sm.add_constant(X_test, prepend=True)\n",
    "\n",
    "targetPredic= modelLR.predict(exog = X_test)\n",
    "clasificacion = np.where(targetPredic<0.5, 0, 1)\n",
    "clasificacion"
   ]
  },
  {
   "cell_type": "markdown",
   "metadata": {},
   "source": [
    "01.06       Muestra de resultados confusion_matrix"
   ]
  },
  {
   "cell_type": "markdown",
   "metadata": {},
   "source": [
    "01.06.01       Accuracy_score"
   ]
  },
  {
   "cell_type": "code",
   "execution_count": 113,
   "metadata": {},
   "outputs": [
    {
     "name": "stdout",
     "output_type": "stream",
     "text": [
      "El accuracy de test es: 76.62337662337663%\n"
     ]
    }
   ],
   "source": [
    "from sklearn.metrics import accuracy_score\n",
    "\n",
    "# Accuracy de test del modelo \n",
    "# ==============================================================================\n",
    "accuracy = accuracy_score(\n",
    "            y_true    = y_test,\n",
    "            y_pred    = clasificacion #,normalize = True\n",
    "           )\n",
    "           \n",
    "print(f\"El accuracy de test es: {100*accuracy}%\")"
   ]
  },
  {
   "cell_type": "code",
   "execution_count": 112,
   "metadata": {},
   "outputs": [
    {
     "name": "stdout",
     "output_type": "stream",
     "text": [
      "El accuracy de test es: 77.99479166666666%\n"
     ]
    }
   ],
   "source": [
    "# probando el modelo con el total de datos\n",
    "X_test_SM = sm.add_constant(datos_xx.drop('resultado', axis = 'columns'), prepend=True)\n",
    "\n",
    "targetPredic_sm= modelLR.predict(exog = X_test_SM)\n",
    "clasificacion_sm = np.where(targetPredic_sm<0.5, 0, 1)\n",
    "clasificacion_sm\n",
    "# Accuracy de test del modelo \n",
    "# ==============================================================================\n",
    "accuracy = accuracy_score(\n",
    "            y_true    = datos_yy,\n",
    "            y_pred    = clasificacion_sm #,normalize = True\n",
    "           )\n",
    "           \n",
    "print(f\"El accuracy de test es: {100*accuracy}%\")"
   ]
  },
  {
   "cell_type": "markdown",
   "metadata": {},
   "source": [
    "01.06.02       Matris de Confusion"
   ]
  },
  {
   "cell_type": "code",
   "execution_count": 114,
   "metadata": {},
   "outputs": [],
   "source": [
    "from sklearn.metrics import confusion_matrix\n",
    "\n",
    "array = confusion_matrix(clasificacion, y_test)\n",
    "df_cm = pd.DataFrame(array)"
   ]
  },
  {
   "cell_type": "code",
   "execution_count": 115,
   "metadata": {},
   "outputs": [
    {
     "data": {
      "text/plain": [
       "Text(0.5, 1.0, 'Distribución original')"
      ]
     },
     "execution_count": 115,
     "metadata": {},
     "output_type": "execute_result"
    },
    {
     "data": {
      "image/png": "[encoded data removed]",
      "text/plain": [
       "<Figure size 600x600 with 2 Axes>"
      ]
     },
     "metadata": {},
     "output_type": "display_data"
    }
   ],
   "source": [
    "\n",
    "# sns.set(font_scale=1)\n",
    "# plt.show(sns.heatmap(df_cm, annot = True, annot_kws={\"size\":16}, cmap='Reds'))\n",
    "\n",
    "fig, axes = plt.subplots(nrows=1, ncols=1, figsize=(6, 6))\n",
    "sns.heatmap(\n",
    "    df_cm, \n",
    "    annot   = True, \n",
    "    annot_kws={\"size\":16}, \n",
    "    fmt       = '.0f',\n",
    "    cmap    ='Reds'\n",
    ")\n",
    "axes.set_title(\"Distribución original\", fontsize = 'medium')\n",
    "\n",
    "# La matris es una forma visual de ver el acuraccy = 0.7052023121387283\n"
   ]
  },
  {
   "cell_type": "code",
   "execution_count": 94,
   "metadata": {},
   "outputs": [
    {
     "data": {
      "text/html": [
       "<div>\n",
       "<style scoped>\n",
       "    .dataframe tbody tr th:only-of-type {\n",
       "        vertical-align: middle;\n",
       "    }\n",
       "\n",
       "    .dataframe tbody tr th {\n",
       "        vertical-align: top;\n",
       "    }\n",
       "\n",
       "    .dataframe thead th {\n",
       "        text-align: right;\n",
       "    }\n",
       "</style>\n",
       "<table border=\"1\" class=\"dataframe\">\n",
       "  <thead>\n",
       "    <tr style=\"text-align: right;\">\n",
       "      <th>resultado</th>\n",
       "      <th>0</th>\n",
       "      <th>1</th>\n",
       "    </tr>\n",
       "    <tr>\n",
       "      <th>row_0</th>\n",
       "      <th></th>\n",
       "      <th></th>\n",
       "    </tr>\n",
       "  </thead>\n",
       "  <tbody>\n",
       "    <tr>\n",
       "      <th>0</th>\n",
       "      <td>89</td>\n",
       "      <td>26</td>\n",
       "    </tr>\n",
       "    <tr>\n",
       "      <th>1</th>\n",
       "      <td>10</td>\n",
       "      <td>29</td>\n",
       "    </tr>\n",
       "  </tbody>\n",
       "</table>\n",
       "</div>"
      ],
      "text/plain": [
       "resultado   0   1\n",
       "row_0            \n",
       "0          89  26\n",
       "1          10  29"
      ]
     },
     "execution_count": 94,
     "metadata": {},
     "output_type": "execute_result"
    }
   ],
   "source": [
    "# Matriz de confusión de las predicciones de test\n",
    "# ==============================================================================\n",
    "confusion_matrix = pd.crosstab(\n",
    "    clasificacion,\n",
    "    y_test\n",
    "    # rownames=['Real'],\n",
    "    # colnames=['Predicción']\n",
    ")\n",
    "confusion_matrix"
   ]
  },
  {
   "cell_type": "code",
   "execution_count": 98,
   "metadata": {},
   "outputs": [
    {
     "data": {
      "text/plain": [
       "0    99\n",
       "1    55\n",
       "Name: resultado, dtype: int64"
      ]
     },
     "execution_count": 98,
     "metadata": {},
     "output_type": "execute_result"
    }
   ],
   "source": [
    "y_test.value_counts()"
   ]
  },
  {
   "cell_type": "markdown",
   "metadata": {},
   "source": [
    "01.06.03       classification_report"
   ]
  },
  {
   "cell_type": "code",
   "execution_count": 90,
   "metadata": {},
   "outputs": [
    {
     "name": "stdout",
     "output_type": "stream",
     "text": [
      "              precision    recall  f1-score   support\n",
      "\n",
      "           0       0.77      0.90      0.83        99\n",
      "           1       0.74      0.53      0.62        55\n",
      "\n",
      "    accuracy                           0.77       154\n",
      "   macro avg       0.76      0.71      0.72       154\n",
      "weighted avg       0.76      0.77      0.76       154\n",
      "\n"
     ]
    }
   ],
   "source": [
    "from sklearn.metrics import classification_report\n",
    "print(classification_report(y_test, clasificacion))"
   ]
  },
  {
   "cell_type": "markdown",
   "metadata": {},
   "source": [
    "01.07       La validación cruzada\n",
    "            O cross validation, se define como una técnica muy utilizada para evaluar los resultados de un análisis estadístico y garantizar que son independientes de la partición entre los datos de entrenamiento y prueba.\n",
    "            Es muy útil para validar que el modelo de aprendizaje automático elegido es el correcto y ayuda a evitar el overfitting.\n",
    "\n",
    "            Aplica el Modelo K veces con donde entrena el modelo con (k-1)/k% como train y compara con el 1/k restante como test, luego alterna con siguiente grupo k y asi con los k grupos formados.\n",
    "            \n",
    "            https://deepnote.com/@a_mas/Cross-Validation-en-Python-685fa851-b5b2-4c5b-b5fb-3dc5ae64838f\n",
    "            https://qu4nt.github.io/sklearn-doc-es/modules/generated/sklearn.model_selection.cross_val_score.html#sklearn.model_selection.cross_val_score"
   ]
  },
  {
   "cell_type": "markdown",
   "metadata": {},
   "source": [
    "01.07.01    Homologacion de a la libreria scikit-learn\n",
    "            Pero obviamos las variables independientes que no son significativas encontradas en el anterior modelo. EN LA SECCION 01.04"
   ]
  },
  {
   "cell_type": "code",
   "execution_count": 147,
   "metadata": {},
   "outputs": [
    {
     "name": "stdout",
     "output_type": "stream",
     "text": [
      "<class 'pandas.core.frame.DataFrame'>\n",
      "RangeIndex: 768 entries, 0 to 767\n",
      "Data columns (total 5 columns):\n",
      " #   Column                Non-Null Count  Dtype  \n",
      "---  ------                --------------  -----  \n",
      " 0   Embarazos             768 non-null    int64  \n",
      " 1   glucosa               768 non-null    int64  \n",
      " 2   presion_arterial      768 non-null    int64  \n",
      " 3   indice_masa_corporal  768 non-null    float64\n",
      " 4   FP_diabetes           768 non-null    float64\n",
      "dtypes: float64(2), int64(3)\n",
      "memory usage: 30.1 KB\n",
      "<class 'pandas.core.series.Series'>\n",
      "RangeIndex: 768 entries, 0 to 767\n",
      "Series name: resultado\n",
      "Non-Null Count  Dtype\n",
      "--------------  -----\n",
      "768 non-null    int64\n",
      "dtypes: int64(1)\n",
      "memory usage: 6.1 KB\n"
     ]
    },
    {
     "data": {
      "text/plain": [
       "0    500\n",
       "1    268\n",
       "Name: resultado, dtype: int64"
      ]
     },
     "execution_count": 147,
     "metadata": {},
     "output_type": "execute_result"
    }
   ],
   "source": [
    "datos_xx_SL =   datos_xx.drop(['grosor_piel','insulina','edad','resultado'], axis = 'columns')\n",
    "datos_yy_SL =   datos_yy\n",
    "datos_xx_SL.info()\n",
    "datos_yy_SL.info()\n",
    "datos_yy_SL.value_counts()"
   ]
  },
  {
   "cell_type": "code",
   "execution_count": 148,
   "metadata": {},
   "outputs": [
    {
     "data": {
      "text/html": [
       "<style>#sk-container-id-10 {color: black;background-color: white;}#sk-container-id-10 pre{padding: 0;}#sk-container-id-10 div.sk-toggleable {background-color: white;}#sk-container-id-10 label.sk-toggleable__label {cursor: pointer;display: block;width: 100%;margin-bottom: 0;padding: 0.3em;box-sizing: border-box;text-align: center;}#sk-container-id-10 label.sk-toggleable__label-arrow:before {content: \"▸\";float: left;margin-right: 0.25em;color: #696969;}#sk-container-id-10 label.sk-toggleable__label-arrow:hover:before {color: black;}#sk-container-id-10 div.sk-estimator:hover label.sk-toggleable__label-arrow:before {color: black;}#sk-container-id-10 div.sk-toggleable__content {max-height: 0;max-width: 0;overflow: hidden;text-align: left;background-color: #f0f8ff;}#sk-container-id-10 div.sk-toggleable__content pre {margin: 0.2em;color: black;border-radius: 0.25em;background-color: #f0f8ff;}#sk-container-id-10 input.sk-toggleable__control:checked~div.sk-toggleable__content {max-height: 200px;max-width: 100%;overflow: auto;}#sk-container-id-10 input.sk-toggleable__control:checked~label.sk-toggleable__label-arrow:before {content: \"▾\";}#sk-container-id-10 div.sk-estimator input.sk-toggleable__control:checked~label.sk-toggleable__label {background-color: #d4ebff;}#sk-container-id-10 div.sk-label input.sk-toggleable__control:checked~label.sk-toggleable__label {background-color: #d4ebff;}#sk-container-id-10 input.sk-hidden--visually {border: 0;clip: rect(1px 1px 1px 1px);clip: rect(1px, 1px, 1px, 1px);height: 1px;margin: -1px;overflow: hidden;padding: 0;position: absolute;width: 1px;}#sk-container-id-10 div.sk-estimator {font-family: monospace;background-color: #f0f8ff;border: 1px dotted black;border-radius: 0.25em;box-sizing: border-box;margin-bottom: 0.5em;}#sk-container-id-10 div.sk-estimator:hover {background-color: #d4ebff;}#sk-container-id-10 div.sk-parallel-item::after {content: \"\";width: 100%;border-bottom: 1px solid gray;flex-grow: 1;}#sk-container-id-10 div.sk-label:hover label.sk-toggleable__label {background-color: #d4ebff;}#sk-container-id-10 div.sk-serial::before {content: \"\";position: absolute;border-left: 1px solid gray;box-sizing: border-box;top: 0;bottom: 0;left: 50%;z-index: 0;}#sk-container-id-10 div.sk-serial {display: flex;flex-direction: column;align-items: center;background-color: white;padding-right: 0.2em;padding-left: 0.2em;position: relative;}#sk-container-id-10 div.sk-item {position: relative;z-index: 1;}#sk-container-id-10 div.sk-parallel {display: flex;align-items: stretch;justify-content: center;background-color: white;position: relative;}#sk-container-id-10 div.sk-item::before, #sk-container-id-10 div.sk-parallel-item::before {content: \"\";position: absolute;border-left: 1px solid gray;box-sizing: border-box;top: 0;bottom: 0;left: 50%;z-index: -1;}#sk-container-id-10 div.sk-parallel-item {display: flex;flex-direction: column;z-index: 1;position: relative;background-color: white;}#sk-container-id-10 div.sk-parallel-item:first-child::after {align-self: flex-end;width: 50%;}#sk-container-id-10 div.sk-parallel-item:last-child::after {align-self: flex-start;width: 50%;}#sk-container-id-10 div.sk-parallel-item:only-child::after {width: 0;}#sk-container-id-10 div.sk-dashed-wrapped {border: 1px dashed gray;margin: 0 0.4em 0.5em 0.4em;box-sizing: border-box;padding-bottom: 0.4em;background-color: white;}#sk-container-id-10 div.sk-label label {font-family: monospace;font-weight: bold;display: inline-block;line-height: 1.2em;}#sk-container-id-10 div.sk-label-container {text-align: center;}#sk-container-id-10 div.sk-container {/* jupyter's `normalize.less` sets `[hidden] { display: none; }` but bootstrap.min.css set `[hidden] { display: none !important; }` so we also need the `!important` here to be able to override the default hidden behavior on the sphinx rendered scikit-learn.org. See: https://github.com/scikit-learn/scikit-learn/issues/21755 */display: inline-block !important;position: relative;}#sk-container-id-10 div.sk-text-repr-fallback {display: none;}</style><div id=\"sk-container-id-10\" class=\"sk-top-container\"><div class=\"sk-text-repr-fallback\"><pre>LogisticRegression()</pre><b>In a Jupyter environment, please rerun this cell to show the HTML representation or trust the notebook. <br />On GitHub, the HTML representation is unable to render, please try loading this page with nbviewer.org.</b></div><div class=\"sk-container\" hidden><div class=\"sk-item\"><div class=\"sk-estimator sk-toggleable\"><input class=\"sk-toggleable__control sk-hidden--visually\" id=\"sk-estimator-id-10\" type=\"checkbox\" checked><label for=\"sk-estimator-id-10\" class=\"sk-toggleable__label sk-toggleable__label-arrow\">LogisticRegression</label><div class=\"sk-toggleable__content\"><pre>LogisticRegression()</pre></div></div></div></div></div>"
      ],
      "text/plain": [
       "LogisticRegression()"
      ]
     },
     "execution_count": 148,
     "metadata": {},
     "output_type": "execute_result"
    }
   ],
   "source": [
    "trainSize = 0.80\n",
    "seed = 1 # semilla(random_state)\n",
    "from sklearn.model_selection import train_test_split\n",
    "X_train_SL, X_test_SL, y_train_SL, y_test_SL = train_test_split(\n",
    "                                        datos_xx_SL,\n",
    "                                        datos_yy_SL,\n",
    "                                        train_size   = trainSize,\n",
    "                                        random_state = seed,\n",
    "                                        shuffle      = True\n",
    "                                    )\n",
    "\n",
    "from sklearn.linear_model import LogisticRegression\n",
    "\n",
    "modelLR_SL = LogisticRegression()\n",
    "modelLR_SL.fit(X_train_SL, y_train_SL)"
   ]
  },
  {
   "cell_type": "code",
   "execution_count": 149,
   "metadata": {},
   "outputs": [
    {
     "name": "stdout",
     "output_type": "stream",
     "text": [
      "0.7922077922077922\n"
     ]
    }
   ],
   "source": [
    "from sklearn.metrics import accuracy_score\n",
    "\n",
    "predictions_SL = modelLR_SL.predict(X_test_SL)\n",
    "print(accuracy_score( predictions_SL,y_test_SL))"
   ]
  },
  {
   "cell_type": "markdown",
   "metadata": {},
   "source": [
    "01.07.02    Ejecucion de Kfold\n",
    "            con el modelo nuevo excluido de variables no significativas."
   ]
  },
  {
   "cell_type": "code",
   "execution_count": 152,
   "metadata": {},
   "outputs": [],
   "source": [
    "from sklearn import model_selection\n",
    "name='Logistic Regression'\n",
    "kfold = model_selection.KFold(n_splits=10, random_state=seed,shuffle=True) # trae el seed(semilla del punto 01.03)\n",
    "cv_results = model_selection.cross_val_score(modelLR_SL, datos_xx_SL, datos_yy_SL, cv=kfold, scoring='accuracy')\n",
    "msg = \"%s: %f (%f)\" % (name, cv_results.mean(), cv_results.std())"
   ]
  },
  {
   "cell_type": "code",
   "execution_count": 153,
   "metadata": {},
   "outputs": [
    {
     "name": "stdout",
     "output_type": "stream",
     "text": [
      "Logistic Regression: 0.770779 (0.047176)\n",
      "[0.79220779 0.79220779 0.80519481 0.67532468 0.80519481 0.71428571\n",
      " 0.84415584 0.77922078 0.73684211 0.76315789]\n"
     ]
    },
    {
     "data": {
      "text/plain": [
       "0.7707792207792208"
      ]
     },
     "execution_count": 153,
     "metadata": {},
     "output_type": "execute_result"
    }
   ],
   "source": [
    "print(msg)\n",
    "print(cv_results)\n",
    "cv_results.mean()"
   ]
  },
  {
   "cell_type": "markdown",
   "metadata": {},
   "source": [
    "01.08       Prueba o Uso"
   ]
  },
  {
   "cell_type": "code",
   "execution_count": 154,
   "metadata": {},
   "outputs": [
    {
     "data": {
      "text/html": [
       "<div>\n",
       "<style scoped>\n",
       "    .dataframe tbody tr th:only-of-type {\n",
       "        vertical-align: middle;\n",
       "    }\n",
       "\n",
       "    .dataframe tbody tr th {\n",
       "        vertical-align: top;\n",
       "    }\n",
       "\n",
       "    .dataframe thead th {\n",
       "        text-align: right;\n",
       "    }\n",
       "</style>\n",
       "<table border=\"1\" class=\"dataframe\">\n",
       "  <thead>\n",
       "    <tr style=\"text-align: right;\">\n",
       "      <th></th>\n",
       "      <th>Embarazos</th>\n",
       "      <th>glucosa</th>\n",
       "      <th>presion_arterial</th>\n",
       "      <th>grosor_piel</th>\n",
       "      <th>insulina</th>\n",
       "      <th>indice_masa_corporal</th>\n",
       "      <th>FP_diabetes</th>\n",
       "      <th>edad</th>\n",
       "      <th>resultado</th>\n",
       "    </tr>\n",
       "  </thead>\n",
       "  <tbody>\n",
       "    <tr>\n",
       "      <th>0</th>\n",
       "      <td>6</td>\n",
       "      <td>148</td>\n",
       "      <td>72</td>\n",
       "      <td>35</td>\n",
       "      <td>0</td>\n",
       "      <td>33.6</td>\n",
       "      <td>0.627</td>\n",
       "      <td>50</td>\n",
       "      <td>1</td>\n",
       "    </tr>\n",
       "  </tbody>\n",
       "</table>\n",
       "</div>"
      ],
      "text/plain": [
       "   Embarazos  glucosa  presion_arterial  grosor_piel  insulina  \\\n",
       "0          6      148                72           35         0   \n",
       "\n",
       "   indice_masa_corporal  FP_diabetes  edad  resultado  \n",
       "0                  33.6        0.627    50          1  "
      ]
     },
     "execution_count": 154,
     "metadata": {},
     "output_type": "execute_result"
    }
   ],
   "source": [
    "datos_xx_SL.head(1)\n",
    "datos_xx.head(1)"
   ]
  },
  {
   "cell_type": "markdown",
   "metadata": {},
   "source": [
    "01.08.01    Probando el Modelo realizado por StatModels\n",
    "            Se le agrega la constante (const : 1.0) y la condicional de <0.5 , 0, 1 debido a que el modelo regresa una probabilidad"
   ]
  },
  {
   "cell_type": "code",
   "execution_count": 168,
   "metadata": {},
   "outputs": [
    {
     "data": {
      "text/plain": [
       "array([1])"
      ]
     },
     "execution_count": 168,
     "metadata": {},
     "output_type": "execute_result"
    }
   ],
   "source": [
    "\n",
    "X_new = pd.DataFrame({\t#'resultado': [132500],\t\n",
    "\t\t\t\t\t\t'const':[1.0], \n",
    "\t\t\t\t\t\t'Embarazos': [7],\t\n",
    "\t\t\t\t\t\t'glucosa': [150],\t\n",
    "\t\t\t\t\t\t'presion_arterial': [80],\n",
    "\t\t\t\t\t\t'grosor_piel': [50],\t\n",
    "\t\t\t\t\t\t'insulina': [0],\t\n",
    "\t\t\t\t\t\t'indice_masa_corporal':\t[29.5],\n",
    "\t\t\t\t\t\t'FP_diabetes': [0.589],\n",
    "\t\t\t\t\t\t'edad': [100]\n",
    "\t\t\t\t\t\t})\n",
    "np.where(modelLR.predict(X_new)<0.5, 0, 1)\n"
   ]
  },
  {
   "cell_type": "markdown",
   "metadata": {},
   "source": [
    "01.08.02    Probando el Modelo realizado por Scikit-learn\n",
    "            No se le agrega nada, ya la predicion te devuelve el valor seteado."
   ]
  },
  {
   "cell_type": "code",
   "execution_count": 167,
   "metadata": {},
   "outputs": [
    {
     "data": {
      "text/plain": [
       "array([1], dtype=int64)"
      ]
     },
     "execution_count": 167,
     "metadata": {},
     "output_type": "execute_result"
    }
   ],
   "source": [
    "X_new = pd.DataFrame({\t#'resultado': [132500],\t\n",
    "\t\t\t\t\t\t'Embarazos': [7],\t\n",
    "\t\t\t\t\t\t'glucosa': [150],\t\n",
    "\t\t\t\t\t\t'presion_arterial': [80],\n",
    "\t\t\t\t\t\t#'grosor_piel': [50],\t\n",
    "\t\t\t\t\t\t#'insulina': [0],\t\n",
    "\t\t\t\t\t\t'indice_masa_corporal':\t[29.5],\n",
    "\t\t\t\t\t\t'FP_diabetes': [0.589]\n",
    "\t\t\t\t\t\t#'edad': [100]\n",
    "\t\t\t\t\t\t})\n",
    "modelLR_SL.predict(X_new)"
   ]
  },
  {
   "cell_type": "markdown",
   "metadata": {},
   "source": [
    "01.09       Guardar Modelo"
   ]
  },
  {
   "cell_type": "code",
   "execution_count": 169,
   "metadata": {},
   "outputs": [
    {
     "data": {
      "text/plain": [
       "['C:/Users/and14/Desktop/Proyectos/Programacion/Python/2022/Practica_20220831_ML/00_Data_Sets/diabetes2_Regresion_Logistica_StatsModel.joblib']"
      ]
     },
     "execution_count": 169,
     "metadata": {},
     "output_type": "execute_result"
    }
   ],
   "source": [
    "import joblib\n",
    "joblib.dump(modelLR,'C:/Users/and14/Desktop/Proyectos/Programacion/Python/2022/Practica_20220831_ML/00_Data_Sets/diabetes2_Regresion_Logistica_SLearn.joblib')\n",
    "joblib.dump(modelLR_SL,'C:/Users/and14/Desktop/Proyectos/Programacion/Python/2022/Practica_20220831_ML/00_Data_Sets/diabetes2_Regresion_Logistica_StatsModel.joblib')"
   ]
  },
  {
   "cell_type": "markdown",
   "metadata": {},
   "source": [
    "01.10       Uso del Modelo"
   ]
  },
  {
   "cell_type": "code",
   "execution_count": 171,
   "metadata": {},
   "outputs": [
    {
     "data": {
      "text/plain": [
       "array([1])"
      ]
     },
     "execution_count": 171,
     "metadata": {},
     "output_type": "execute_result"
    }
   ],
   "source": [
    "\n",
    "modelo = joblib.load('C:/Users/and14/Desktop/Proyectos/Programacion/Python/2022/Practica_20220831_ML/00_Data_Sets/diabetes2_Regresion_Logistica_StatsModel.joblib')\n",
    "X_new = pd.DataFrame({\t#'resultado': [132500],\t\n",
    "\t\t\t\t\t\t'const':[1.0], \n",
    "\t\t\t\t\t\t'Embarazos': [7],\t\n",
    "\t\t\t\t\t\t'glucosa': [150],\t\n",
    "\t\t\t\t\t\t'presion_arterial': [80],\n",
    "\t\t\t\t\t\t'grosor_piel': [50],\t\n",
    "\t\t\t\t\t\t'insulina': [0],\t\n",
    "\t\t\t\t\t\t'indice_masa_corporal':\t[29.5],\n",
    "\t\t\t\t\t\t'FP_diabetes': [0.589],\n",
    "\t\t\t\t\t\t'edad': [100]\n",
    "\t\t\t\t\t\t})\n",
    "np.where(modelLR.predict(X_new)<0.5, 0, 1)\n"
   ]
  },
  {
   "cell_type": "code",
   "execution_count": 172,
   "metadata": {},
   "outputs": [
    {
     "data": {
      "text/plain": [
       "array([1], dtype=int64)"
      ]
     },
     "execution_count": 172,
     "metadata": {},
     "output_type": "execute_result"
    }
   ],
   "source": [
    "modelo = joblib.load('C:/Users/and14/Desktop/Proyectos/Programacion/Python/2022/Practica_20220831_ML/00_Data_Sets/diabetes2_Regresion_Logistica_SLearn.joblib')\n",
    "\n",
    "X_new = pd.DataFrame({\t#'resultado': [132500],\t\n",
    "\t\t\t\t\t\t'Embarazos': [7],\t\n",
    "\t\t\t\t\t\t'glucosa': [150],\t\n",
    "\t\t\t\t\t\t'presion_arterial': [80],\n",
    "\t\t\t\t\t\t#'grosor_piel': [50],\t\n",
    "\t\t\t\t\t\t#'insulina': [0],\t\n",
    "\t\t\t\t\t\t'indice_masa_corporal':\t[29.5],\n",
    "\t\t\t\t\t\t'FP_diabetes': [0.589]\n",
    "\t\t\t\t\t\t#'edad': [100]\n",
    "\t\t\t\t\t\t})\n",
    "modelLR_SL.predict(X_new)"
   ]
  }
 ],
 "metadata": {
  "kernelspec": {
   "display_name": "Python 3.9.1 ('envDS': venv)",
   "language": "python",
   "name": "python3"
  },
  "language_info": {
   "codemirror_mode": {
    "name": "ipython",
    "version": 3
   },
   "file_extension": ".py",
   "mimetype": "text/x-python",
   "name": "python",
   "nbconvert_exporter": "python",
   "pygments_lexer": "ipython3",
   "version": "3.9.1"
  },
  "orig_nbformat": 4,
  "vscode": {
   "interpreter": {
    "hash": "995346e09fb446ba2efbd9d1991cfbc82545d23f122135d8e364a6a9ff90cf1f"
   }
  }
 },
 "nbformat": 4,
 "nbformat_minor": 2
}
