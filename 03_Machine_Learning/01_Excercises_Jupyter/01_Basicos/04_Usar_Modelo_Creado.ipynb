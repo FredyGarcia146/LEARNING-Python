{
 "cells": [
  {
   "cell_type": "code",
   "execution_count": null,
   "metadata": {},
   "outputs": [],
   "source": [
    "import joblib\n",
    "modelo = joblib.load('../00_Data_Sets/ds_salaries_model_Type_Job.joblib')\n"
   ]
  },
  {
   "cell_type": "code",
   "execution_count": null,
   "metadata": {},
   "outputs": [],
   "source": [
    "predicciones =  modelo.predict([[2020,250000,0],[2020,21000,0],[2022,200000,100]])\n",
    "predicciones"
   ]
  }
 ],
 "metadata": {
  "kernelspec": {
   "display_name": "Python 3.9.1 64-bit",
   "language": "python",
   "name": "python3"
  },
  "language_info": {
   "codemirror_mode": {
    "name": "ipython",
    "version": 3
   },
   "file_extension": ".py",
   "mimetype": "text/x-python",
   "name": "python",
   "nbconvert_exporter": "python",
   "pygments_lexer": "ipython3",
   "version": "3.9.1"
  },
  "orig_nbformat": 4,
  "vscode": {
   "interpreter": {
    "hash": "65a7c68cfdcb1e83d41bf6654c679351a062093ed6e4ec99e3f9939f4c1244a3"
   }
  }
 },
 "nbformat": 4,
 "nbformat_minor": 2
}
