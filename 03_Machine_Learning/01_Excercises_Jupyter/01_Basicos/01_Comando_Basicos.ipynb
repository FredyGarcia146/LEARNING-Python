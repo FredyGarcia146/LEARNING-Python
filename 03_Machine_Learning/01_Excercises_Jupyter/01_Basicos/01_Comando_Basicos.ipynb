{
 "cells": [
  {
   "cell_type": "markdown",
   "metadata": {},
   "source": [
    "-   Los comandos outputs deben ser ejecutados cell x cell.\n",
    "-   El Kernel mantiene las variables hasta limpiarlas\n",
    "-   Las rutas de archivos se pueden encontrar con las comillas e iniciando con dos puntos(..)\n",
    "-   Los comandos de pandas, numpy etc vienen incluidos al instalar anaconda, pero se pueden instalar en las carpetas de python haciendo uso de los pip intall pandas"
   ]
  },
  {
   "cell_type": "code",
   "execution_count": 4,
   "metadata": {},
   "outputs": [],
   "source": [
    "import pandas as pd\n",
    "df = pd.read_csv('C:/Users/and14/Desktop/Proyectos/Programacion/Python/2022/Practica_20220831_ML/00_Data_Sets/ds_salaries.csv')\n"
   ]
  },
  {
   "cell_type": "code",
   "execution_count": null,
   "metadata": {},
   "outputs": [],
   "source": [
    "columnJob  = df['job_title']\n",
    "columnOthers= df.drop(columns=['job_title'])\n"
   ]
  },
  {
   "cell_type": "code",
   "execution_count": null,
   "metadata": {},
   "outputs": [],
   "source": [
    "df.describe()"
   ]
  },
  {
   "cell_type": "code",
   "execution_count": 5,
   "metadata": {},
   "outputs": [
    {
     "data": {
      "text/plain": [
       "(607, 12)"
      ]
     },
     "execution_count": 5,
     "metadata": {},
     "output_type": "execute_result"
    }
   ],
   "source": [
    "df.shape"
   ]
  },
  {
   "cell_type": "code",
   "execution_count": 6,
   "metadata": {},
   "outputs": [
    {
     "data": {
      "text/plain": [
       "array([[0, 2020, 'MI', ..., 0, 'DE', 'L'],\n",
       "       [1, 2020, 'SE', ..., 0, 'JP', 'S'],\n",
       "       [2, 2020, 'SE', ..., 50, 'GB', 'M'],\n",
       "       ...,\n",
       "       [604, 2022, 'SE', ..., 0, 'US', 'M'],\n",
       "       [605, 2022, 'SE', ..., 100, 'US', 'M'],\n",
       "       [606, 2022, 'MI', ..., 100, 'US', 'L']], dtype=object)"
      ]
     },
     "execution_count": 6,
     "metadata": {},
     "output_type": "execute_result"
    }
   ],
   "source": [
    "df.values"
   ]
  },
  {
   "cell_type": "code",
   "execution_count": null,
   "metadata": {},
   "outputs": [],
   "source": [
    "df"
   ]
  },
  {
   "cell_type": "code",
   "execution_count": null,
   "metadata": {},
   "outputs": [],
   "source": [
    "columnOthers"
   ]
  }
 ],
 "metadata": {
  "kernelspec": {
   "display_name": "Python 3.9.1 64-bit",
   "language": "python",
   "name": "python3"
  },
  "language_info": {
   "codemirror_mode": {
    "name": "ipython",
    "version": 3
   },
   "file_extension": ".py",
   "mimetype": "text/x-python",
   "name": "python",
   "nbconvert_exporter": "python",
   "pygments_lexer": "ipython3",
   "version": "3.9.1"
  },
  "orig_nbformat": 4,
  "vscode": {
   "interpreter": {
    "hash": "65a7c68cfdcb1e83d41bf6654c679351a062093ed6e4ec99e3f9939f4c1244a3"
   }
  }
 },
 "nbformat": 4,
 "nbformat_minor": 2
}
